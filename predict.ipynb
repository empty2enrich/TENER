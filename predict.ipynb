{
 "cells": [
  {
   "cell_type": "code",
   "execution_count": 10,
   "metadata": {},
   "outputs": [],
   "source": [
    "from my_py_toolkit.torch.transformers_pkg import bert_tokenize\n",
    "import torch\n",
    "from my_py_toolkit.file.file_toolkit import read_file\n",
    "import json"
   ]
  },
  {
   "cell_type": "code",
   "execution_count": 6,
   "metadata": {},
   "outputs": [
    {
     "data": {
      "text/plain": [
       "'{\"id\": 0, \"text\": \"四川敦煌学”。近年来，丹棱县等地一些不知名的石窟迎来了海内外的游客，他们随身携带着胡文和的著作。\"}'"
      ]
     },
     "execution_count": 6,
     "metadata": {},
     "output_type": "execute_result"
    }
   ],
   "source": [
    "data = read_file('resources/dataset/cluener/test.json', '\\n')\n",
    "data[0]"
   ]
  },
  {
   "cell_type": "code",
   "execution_count": 8,
   "metadata": {},
   "outputs": [],
   "source": [
    "tokenizer = bert_tokenize('resources/bert_model/bert/')"
   ]
  },
  {
   "cell_type": "code",
   "execution_count": 11,
   "metadata": {},
   "outputs": [
    {
     "data": {
      "text/plain": [
       "['四',\n",
       " '川',\n",
       " '敦',\n",
       " '煌',\n",
       " '学',\n",
       " '[UNK]',\n",
       " '。',\n",
       " '近',\n",
       " '年',\n",
       " '来',\n",
       " '，',\n",
       " '丹',\n",
       " '棱',\n",
       " '县',\n",
       " '等',\n",
       " '地',\n",
       " '一',\n",
       " '些',\n",
       " '不',\n",
       " '知',\n",
       " '名',\n",
       " '的',\n",
       " '石',\n",
       " '窟',\n",
       " '迎',\n",
       " '来',\n",
       " '了',\n",
       " '海',\n",
       " '内',\n",
       " '外',\n",
       " '的',\n",
       " '游',\n",
       " '客',\n",
       " '，',\n",
       " '他',\n",
       " '们',\n",
       " '随',\n",
       " '身',\n",
       " '携',\n",
       " '带',\n",
       " '着',\n",
       " '胡',\n",
       " '文',\n",
       " '和',\n",
       " '的',\n",
       " '著',\n",
       " '作',\n",
       " '。']"
      ]
     },
     "execution_count": 11,
     "metadata": {},
     "output_type": "execute_result"
    }
   ],
   "source": [
    "a = tokenizer.tokenize(json.loads(data[0])['text'])\n",
    "a"
   ]
  },
  {
   "cell_type": "code",
   "execution_count": 12,
   "metadata": {},
   "outputs": [
    {
     "data": {
      "text/plain": [
       "'四 川 敦 煌 学 [UNK] 。 近 年 来 ， 丹 棱 县 等 地 一 些 不 知 名 的 石 窟 迎 来 了 海 内 外 的 游 客 ， 他 们 随 身 携 带 着 胡 文 和 的 著 作 。'"
      ]
     },
     "execution_count": 12,
     "metadata": {},
     "output_type": "execute_result"
    }
   ],
   "source": [
    "tokenizer.convert_tokens_to_string(a)"
   ]
  },
  {
   "cell_type": "code",
   "execution_count": null,
   "metadata": {},
   "outputs": [],
   "source": []
  }
 ],
 "metadata": {
  "interpreter": {
   "hash": "60f1a0e5806fbf24163cbd226ff9c6bd3e2c859ea98df4476897d063a6636f01"
  },
  "kernelspec": {
   "display_name": "Python 3.9.7 64-bit ('nlp2': conda)",
   "language": "python",
   "name": "python3"
  },
  "language_info": {
   "codemirror_mode": {
    "name": "ipython",
    "version": 3
   },
   "file_extension": ".py",
   "mimetype": "text/x-python",
   "name": "python",
   "nbconvert_exporter": "python",
   "pygments_lexer": "ipython3",
   "version": "3.9.7"
  },
  "orig_nbformat": 4
 },
 "nbformat": 4,
 "nbformat_minor": 2
}
