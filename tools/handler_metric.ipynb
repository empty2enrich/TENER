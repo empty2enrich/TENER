{
 "cells": [
  {
   "cell_type": "code",
   "execution_count": 2,
   "metadata": {},
   "outputs": [],
   "source": [
    "# 处理准确率\n",
    "\n",
    "from my_py_toolkit.file.excel.excel_toolkit import write_excel\n",
    "import json\n",
    "import re"
   ]
  },
  {
   "cell_type": "code",
   "execution_count": 6,
   "metadata": {},
   "outputs": [],
   "source": [
    "txt = \"2021-12-15 22:30:50,164 - my_py_toolkit.log.logger - INFO - epoch: 0, 0 Folder: {'ADDRESS': {'precision': 0.5824039653035935, 'recall': 0.6962962962962963, 'f1-score': 0.6342780026990552, 'support': 675}, 'BOOK': {'precision': 0.7637795275590551, 'recall': 0.7698412698412699, 'f1-score': 0.766798418972332, 'support': 252}, 'COMPANY': {'precision': 0.7609561752988048, 'recall': 0.7860082304526749, 'f1-score': 0.7732793522267206, 'support': 729}, 'GAME': {'precision': 0.8631790744466801, 'recall': 0.7929759704251387, 'f1-score': 0.8265895953757226, 'support': 541}, 'GOVERNMENT': {'precision': 0.7084188911704312, 'recall': 0.837378640776699, 'f1-score': 0.7675194660734149, 'support': 412}, 'MOVIE': {'precision': 0.75, 'recall': 0.7649402390438247, 'f1-score': 0.7573964497041419, 'support': 251}, 'NAME': {'precision': 0.23125948406676783, 'recall': 0.8718535469107551, 'f1-score': 0.3655552890381386, 'support': 874}, 'ORGANIZATION': {'precision': 0.8335724533715926, 'recall': 0.7894021739130435, 'f1-score': 0.8108862526168877, 'support': 736}, 'POSITION': {'precision': 0.7660130718954249, 'recall': 0.8071625344352618, 'f1-score': 0.7860496311200538, 'support': 726}, 'SCENE': {'precision': 0.8571428571428571, 'recall': 0.5278592375366569, 'f1-score': 0.6533575317604355, 'support': 341}, '[CLS]': {'precision': 1.0, 'recall': 1.0, 'f1-score': 1.0, 'support': 2415}, '[SEP]': {'precision': 0.0021073574261443215, 'recall': 1.0, 'f1-score': 0.004205851619644724, 'support': 2415}, 'micro avg': {'precision': 0.007905425446269135, 'recall': 0.8818365968939905, 'f1-score': 0.015670370281490723, 'support': 10367}, 'macro avg': {'precision': 0.6765694048067793, 'recall': 0.803643178302635, 'f1-score': 0.6788263201005457, 'support': 10367}, 'weighted avg': {'precision': 0.5953083070490293, 'recall': 0.8818365968939905, 'f1-score': 0.605144466856631, 'support': 10367}}\"\n",
    "# txt = \"2021-12-15 23:35:52,807 - my_py_toolkit.log.logger - INFO - epoch: 2, 0 Folder: {'ADDRESS': {'precision': 0.6586102719033232, 'recall': 0.6459259259259259, 'f1-score': 0.6522064323111444, 'support': 675}, 'BOOK': {'precision': 0.7316176470588235, 'recall': 0.7896825396825397, 'f1-score': 0.7595419847328243, 'support': 252}, 'COMPANY': {'precision': 0.7837837837837838, 'recall': 0.7558299039780522, 'f1-score': 0.7695530726256983, 'support': 729}, 'GAME': {'precision': 0.8404255319148937, 'recall': 0.8761552680221811, 'f1-score': 0.857918552036199, 'support': 541}, 'GOVERNMENT': {'precision': 0.7932692307692307, 'recall': 0.8009708737864077, 'f1-score': 0.7971014492753623, 'support': 412}, 'MOVIE': {'precision': 0.7090909090909091, 'recall': 0.7768924302788844, 'f1-score': 0.741444866920152, 'support': 251}, 'NAME': {'precision': 0.22426699937616967, 'recall': 0.8226544622425629, 'f1-score': 0.3524509803921569, 'support': 874}, 'ORGANIZATION': {'precision': 0.8018617021276596, 'recall': 0.8192934782608695, 'f1-score': 0.8104838709677419, 'support': 736}, 'POSITION': {'precision': 0.7755610972568578, 'recall': 0.8567493112947658, 'f1-score': 0.8141361256544503, 'support': 726}, 'SCENE': {'precision': 0.6827195467422096, 'recall': 0.7067448680351907, 'f1-score': 0.6945244956772334, 'support': 341}, '[CLS]': {'precision': 1.0, 'recall': 1.0, 'f1-score': 1.0, 'support': 2415}, '[SEP]': {'precision': 0.0021073574261443215, 'recall': 1.0, 'f1-score': 0.004205851619644724, 'support': 2415}, 'micro avg': {'precision': 0.00795569026422404, 'recall': 0.8874312723063567, 'f1-score': 0.01577000476528405, 'support': 10367}, 'macro avg': {'precision': 0.6669428397875005, 'recall': 0.820908255125615, 'f1-score': 0.6877973068510506, 'support': 10367}, 'weighted avg': {'precision': 0.5943783614786422, 'recall': 0.8874312723063567, 'f1-score': 0.6104853482265199, 'support': 10367}}\"\n",
    "# txt = \"2021-12-15 23:04:35,405 - my_py_toolkit.log.logger - INFO - epoch: 1, 0 Folder: {'ADDRESS': {'precision': 0.6735015772870663, 'recall': 0.6325925925925926, 'f1-score': 0.6524064171122995, 'support': 675}, 'BOOK': {'precision': 0.804, 'recall': 0.7976190476190477, 'f1-score': 0.800796812749004, 'support': 252}, 'COMPANY': {'precision': 0.7797927461139896, 'recall': 0.8257887517146777, 'f1-score': 0.8021319120586275, 'support': 729}, 'GAME': {'precision': 0.7860615883306321, 'recall': 0.8964879852125693, 'f1-score': 0.8376511226252159, 'support': 541}, 'GOVERNMENT': {'precision': 0.7304526748971193, 'recall': 0.8616504854368932, 'f1-score': 0.7906458797327393, 'support': 412}, 'MOVIE': {'precision': 0.7537688442211056, 'recall': 0.5976095617529881, 'f1-score': 0.6666666666666666, 'support': 251}, 'NAME': {'precision': 0.2356881851400731, 'recall': 0.88558352402746, 'f1-score': 0.3722943722943723, 'support': 874}, 'ORGANIZATION': {'precision': 0.7683686176836861, 'recall': 0.8383152173913043, 'f1-score': 0.8018193632228721, 'support': 736}, 'POSITION': {'precision': 0.7950065703022339, 'recall': 0.8333333333333334, 'f1-score': 0.8137188971082716, 'support': 726}, 'SCENE': {'precision': 0.6741854636591479, 'recall': 0.7888563049853372, 'f1-score': 0.727027027027027, 'support': 341}, '[CLS]': {'precision': 1.0, 'recall': 1.0, 'f1-score': 1.0, 'support': 2415}, '[SEP]': {'precision': 0.0021073574261443215, 'recall': 1.0, 'f1-score': 0.004205851619644724, 'support': 2415}, 'micro avg': {'precision': 0.00805374349929319, 'recall': 0.8985241632101861, 'f1-score': 0.015964393318777144, 'support': 10367}, 'macro avg': {'precision': 0.6669111354217666, 'recall': 0.8298197336721836, 'f1-score': 0.6891136935180618, 'support': 10367}, 'weighted avg': {'precision': 0.5922411821731262, 'recall': 0.8985241632101861, 'f1-score': 0.6127650800881, 'support': 10367}}\"\n",
    "\n",
    "data = txt[txt.index('Folder: ') + 8:]\n",
    "data = json.loads(data.replace(\"'\", '\"'))"
   ]
  },
  {
   "cell_type": "code",
   "execution_count": 13,
   "metadata": {},
   "outputs": [
    {
     "data": {
      "text/plain": [
       "[0.015670370281490723,\n",
       " 0.007905425446269135,\n",
       " 0.8818365968939905,\n",
       " 10367,\n",
       " 0.6788263201005457,\n",
       " 0.6765694048067793,\n",
       " 0.803643178302635,\n",
       " 10367,\n",
       " '',\n",
       " 0.6342780026990552,\n",
       " 0.5824039653035935,\n",
       " 0.6962962962962963,\n",
       " 675,\n",
       " 0.766798418972332,\n",
       " 0.7637795275590551,\n",
       " 0.7698412698412699,\n",
       " 252,\n",
       " 0.7732793522267206,\n",
       " 0.7609561752988048,\n",
       " 0.7860082304526749,\n",
       " 729,\n",
       " 0.8265895953757226,\n",
       " 0.8631790744466801,\n",
       " 0.7929759704251387,\n",
       " 541,\n",
       " 0.7675194660734149,\n",
       " 0.7084188911704312,\n",
       " 0.837378640776699,\n",
       " 412,\n",
       " 0.7573964497041419,\n",
       " 0.75,\n",
       " 0.7649402390438247,\n",
       " 251,\n",
       " 0.3655552890381386,\n",
       " 0.23125948406676783,\n",
       " 0.8718535469107551,\n",
       " 874,\n",
       " 0.8108862526168877,\n",
       " 0.8335724533715926,\n",
       " 0.7894021739130435,\n",
       " 736,\n",
       " 0.7860496311200538,\n",
       " 0.7660130718954249,\n",
       " 0.8071625344352618,\n",
       " 726,\n",
       " 0.6533575317604355,\n",
       " 0.8571428571428571,\n",
       " 0.5278592375366569,\n",
       " 341]"
      ]
     },
     "execution_count": 13,
     "metadata": {},
     "output_type": "execute_result"
    }
   ],
   "source": [
    "res = []\n",
    "items = ['micro avg', 'macro avg', 'ADDRESS', 'BOOK', 'COMPANY', 'GAME', 'GOVERNMENT', 'MOVIE', 'NAME', 'ORGANIZATION', 'POSITION', 'SCENE']\n",
    "sub_key = ['f1-score', 'precision', 'recall', 'support']\n",
    "for key in items:\n",
    "    cur = data[key]\n",
    "    for k in sub_key:\n",
    "        \n",
    "        res.append(cur[k])\n",
    "    if key == 'macro avg':\n",
    "        res.append('')\n",
    "res"
   ]
  },
  {
   "cell_type": "code",
   "execution_count": 15,
   "metadata": {},
   "outputs": [],
   "source": [
    "write_excel([res], 'test.xls')"
   ]
  },
  {
   "cell_type": "code",
   "execution_count": null,
   "metadata": {},
   "outputs": [],
   "source": [
    "# globalpointer loss process"
   ]
  },
  {
   "cell_type": "code",
   "execution_count": 10,
   "metadata": {},
   "outputs": [],
   "source": [
    "txt = 'INFO:my_py_toolkit.log.logger:epoch: 0, 0 Folder: em: 0.00019841051835101098, f1:0.00039659152389504015, tp:36, tpfp:181442, tpfn:105'\n",
    "reg = 'em: (?P<em>[\\\\d\\\\.]+).*f1.*?(?P<f1>[\\\\d\\\\.]+).*?tp.*?(?P<tp>[\\\\d\\\\.]+).*?tpfp.*?(?P<tpfp>[\\\\d\\\\.]+).*?tpfn.*?(?P<tpfn>[\\\\d\\\\.]+)'\n",
    "log_path = '../../log/run.log'"
   ]
  },
  {
   "cell_type": "code",
   "execution_count": 7,
   "metadata": {},
   "outputs": [
    {
     "name": "stdout",
     "output_type": "stream",
     "text": [
      "{'em': '0.00019841051835101098', 'f1': '0.00039659152389504015', 'tp': '36', 'tpfp': '181442', 'tpfn': '105'}\n"
     ]
    }
   ],
   "source": [
    "match = re.search(reg, txt)\n",
    "print(match.groupdict())"
   ]
  },
  {
   "cell_type": "code",
   "execution_count": null,
   "metadata": {},
   "outputs": [],
   "source": []
  },
  {
   "cell_type": "code",
   "execution_count": 14,
   "metadata": {},
   "outputs": [
    {
     "data": {
      "text/plain": [
       "[['em', 'f1', 'tp', 'tpfp', 'tpfn'],\n",
       " ['0.00019841051835101098', '0.00039659152389504015', '36', '181442', '105'],\n",
       " ['0.00022267444001045078', '0.0004450460837688297', '36', '161671', '110']]"
      ]
     },
     "execution_count": 14,
     "metadata": {},
     "output_type": "execute_result"
    }
   ],
   "source": [
    "res = []\n",
    "keys = ['em', 'f1', 'tp', 'tpfp', 'tpfn']\n",
    "res.append(keys)\n",
    "with open(log_path, 'r', encoding='utf-8') as f:\n",
    "    for line in f.readlines():\n",
    "        cur = []\n",
    "        if line:\n",
    "            match = re.search(reg, line)\n",
    "            if match:\n",
    "                for k in keys:\n",
    "                    cur.append(match[k])\n",
    "        if cur:\n",
    "            res.append(cur)\n",
    "res"
   ]
  },
  {
   "cell_type": "code",
   "execution_count": 15,
   "metadata": {},
   "outputs": [],
   "source": [
    "write_excel(res, './gp_res.xlsx')"
   ]
  },
  {
   "cell_type": "code",
   "execution_count": 5,
   "metadata": {},
   "outputs": [],
   "source": [
    "# 处理 loss\n",
    "txt = '2022-03-05 19:01:25,228 - my_py_toolkit.log.logger - INFO - epoch: 0, 0 Folder, Step: 0, loss: 3.287632465362549'\n",
    "reg = 'epoch.*?(?P<epoch>\\\\d+).*?loss.*?(?P<loss>[\\\\d\\\\.]+)'"
   ]
  },
  {
   "cell_type": "code",
   "execution_count": 6,
   "metadata": {},
   "outputs": [
    {
     "name": "stdout",
     "output_type": "stream",
     "text": [
      "{'epoch': '0', 'loss': '3.287632465362549'}\n"
     ]
    }
   ],
   "source": [
    "match = re.search(reg, txt)\n",
    "print(match.groupdict())"
   ]
  },
  {
   "cell_type": "code",
   "execution_count": null,
   "metadata": {},
   "outputs": [],
   "source": []
  },
  {
   "cell_type": "code",
   "execution_count": null,
   "metadata": {},
   "outputs": [],
   "source": []
  },
  {
   "cell_type": "code",
   "execution_count": null,
   "metadata": {},
   "outputs": [],
   "source": []
  }
 ],
 "metadata": {
  "interpreter": {
   "hash": "60f1a0e5806fbf24163cbd226ff9c6bd3e2c859ea98df4476897d063a6636f01"
  },
  "kernelspec": {
   "display_name": "Python 3.9.7 64-bit ('nlp2': conda)",
   "language": "python",
   "name": "python3"
  },
  "language_info": {
   "codemirror_mode": {
    "name": "ipython",
    "version": 3
   },
   "file_extension": ".py",
   "mimetype": "text/x-python",
   "name": "python",
   "nbconvert_exporter": "python",
   "pygments_lexer": "ipython3",
   "version": "3.6.5"
  },
  "orig_nbformat": 4
 },
 "nbformat": 4,
 "nbformat_minor": 2
}
