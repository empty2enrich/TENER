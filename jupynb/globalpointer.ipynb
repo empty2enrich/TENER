{
 "cells": [
  {
   "cell_type": "code",
   "execution_count": 65,
   "metadata": {},
   "outputs": [],
   "source": [
    "import torch\n",
    "import torch.nn.functional as F\n",
    "from my_py_toolkit.torch.transformer_utils import gen_pos_emb\n",
    "# from my_py_toolkit.torch.tensor_toolkit import mask"
   ]
  },
  {
   "cell_type": "code",
   "execution_count": 66,
   "metadata": {},
   "outputs": [],
   "source": [
    "def mask(tensor, tensor_mask, mask_dim, mask_value=0):\n",
    "  \"\"\"\n",
    "  Mask a tensor.\n",
    "  Args:\n",
    "    tensor(torch.Tensor): 输入\n",
    "    tensor_mask(torch.Tensor): mask 位置信息. 注：数据类型必须是 Int, 否则不能正确 mask。\n",
    "    mask_dim(int): 整数，指定需要 mask 的维度，example：mask_dim = -1, 表示在最后一维上做 mask 操作.\n",
    "      example: tensor is shape(3,3,3), -1 表示对最后一维的 len=3 的数组做 mask.\n",
    "  Returns:\n",
    "  \"\"\"\n",
    "  if not mask_dim < 0:\n",
    "    raise Exception(f\"Mask dim only supports negative numbers! Mask dim: {mask_dim} \")\n",
    "  tensor_mask = 1 - tensor_mask\n",
    "  if mask_dim < 0:\n",
    "    mask_dim = tensor.dim() + mask_dim\n",
    "  for _ in range(mask_dim - tensor_mask.dim() + 1):\n",
    "    tensor_mask = tensor_mask.unsqueeze(1)\n",
    "  for _ in range(tensor.dim() - tensor_mask.dim()):\n",
    "    tensor_mask = tensor_mask.unsqueeze(-1)\n",
    "  return tensor.masked_fill(tensor_mask, mask_value)"
   ]
  },
  {
   "cell_type": "code",
   "execution_count": 67,
   "metadata": {},
   "outputs": [],
   "source": [
    "# sin 位置编码\n",
    "def rope(inputs):\n",
    "    \"\"\"rotary position embedding\"\"\"\n",
    "    length, dim = inputs.shape[-2:]\n",
    "    pos = gen_pos_emb(length, dim)\n",
    "    inputs_2 = torch.zeros_like(inputs)\n",
    "    inputs_2[..., ::2] = -inputs[..., 1::2]\n",
    "    inputs_2[..., 1::2] = inputs[..., ::2]\n",
    "    sin, cos = torch.zeros_like(pos), torch.zeros_like(pos)\n",
    "    sin[:, ::2], sin[:, 1::2] = pos[:, ::2], pos[:, ::2]\n",
    "    cos[:, ::2], cos[:, 1::2] = pos[:, 1::2], pos[:, 1::2]\n",
    "    return inputs * cos + inputs_2 * sin\n",
    "\n"
   ]
  },
  {
   "cell_type": "code",
   "execution_count": 68,
   "metadata": {},
   "outputs": [],
   "source": [
    "# efficient globalpointer\n",
    "class EfficientGlobalPointer(torch.nn.Module):\n",
    "    def __init__(self, num_head, dim):\n",
    "        super().__init__()\n",
    "        self.linear_1 = torch.nn.Linear(dim, num_head * 2)\n",
    "        self.linear_2 = torch.nn.Linear(num_head * 2, num_head * 2)\n",
    "\n",
    "    def forward(self, inputs, mask_t):\n",
    "        inputs = self.linear_1(inputs)\n",
    "        q, k = inputs[..., ::2], inputs[..., 1::2]\n",
    "        q, k = rope(q), rope(k)\n",
    "        att = q@k.transpose(-1, -2)\n",
    "        bias = self.linear_2(inputs).transpose(-1, -2)//2\n",
    "        logits = att.unsqueeze(1) + bias[:, ::2, :].unsqueeze(-1) + bias[:, 1::2, :].unsqueeze(-2)\n",
    "        logits = mask(logits, mask_t, -1, -10000)\n",
    "        logits = mask(logits, mask_t, -2, -10000)\n",
    "        logits = logits.masked_fill(torch.tril(torch.ones_like(logits).to(int)), -10000)\n",
    "        return logits\n",
    "\n",
    "        \n",
    "\n"
   ]
  },
  {
   "cell_type": "code",
   "execution_count": 69,
   "metadata": {},
   "outputs": [],
   "source": [
    "# \n",
    "def multilabel_categorical_crossentropy(y_true, y_pre):\n",
    "    y_pre = (1 - 2* y_true) * y_pre\n",
    "    y_neg = mask(y_pre, y_true, -1, -10000)\n",
    "    y_pos = mask(y_pre, 1-y_true, -1, -10000)\n",
    "    zero = torch.zeros_like(y_true[..., :1])\n",
    "    y_neg = torch.cat([y_neg, zero], -1)\n",
    "    y_pos = torch.cat([y_pos, zero], -1)\n",
    "    return torch.logsumexp(y_neg, -1) + torch.logsumexp(y_pos, -1)"
   ]
  },
  {
   "cell_type": "code",
   "execution_count": 70,
   "metadata": {},
   "outputs": [],
   "source": [
    "def global_pointer_loss(y_true, y_pre):\n",
    "    b, h = y_pre.shape[:2]\n",
    "    y_pre = y_pre.reshape(b*h, -1)\n",
    "    y_true = y_true.permute(0, 3, 1, 2).reshape(b*h, -1)\n",
    "    return torch.mean(multilabel_categorical_crossentropy(y_true, y_pre))"
   ]
  },
  {
   "cell_type": "code",
   "execution_count": 76,
   "metadata": {},
   "outputs": [],
   "source": [
    "def f1_globalpointer(y_true, y_pre):\n",
    "    y_pre = y_pre.greater(0)\n",
    "    return 2 * (y_true * y_pre).sum() / (y_true.sum() + y_pre.sum())"
   ]
  },
  {
   "cell_type": "code",
   "execution_count": 91,
   "metadata": {},
   "outputs": [],
   "source": [
    "def em_globalpoiter(y_true, y_pre):\n",
    "    y_pre = y_pre.greater(0)\n",
    "    return (y_true * y_pre).sum()/ y_pre.sum()"
   ]
  },
  {
   "cell_type": "code",
   "execution_count": 89,
   "metadata": {},
   "outputs": [],
   "source": [
    "def predict_globalpointer(y_pre, tags):\n",
    "    res = [{}] * y_pre.shape[0]\n",
    "    idx = (y_pre>0).nonzero()\n",
    "    for b, tag_idx, start, end in idx.tolist():\n",
    "        if tags[tag_idx] not in res[b]:\n",
    "            res[b][tags[tag_idx]] = []\n",
    "        res[b][tags[tag_idx]].append((start, end))\n",
    "    return res\n"
   ]
  },
  {
   "cell_type": "code",
   "execution_count": 96,
   "metadata": {},
   "outputs": [
    {
     "data": {
      "text/plain": [
       "(tensor([[ 0.2778,  0.1780, -0.7899],\n",
       "         [-0.5808,  1.0634, -0.0862]]),\n",
       " tensor([[1, 0, 0],\n",
       "         [0, 0, 1]]))"
      ]
     },
     "execution_count": 96,
     "metadata": {},
     "output_type": "execute_result"
    }
   ],
   "source": [
    "y_pre = torch.randn(2,3)\n",
    "y_true = torch.randint(0, 2, (2,3))\n",
    "y_pre, y_true"
   ]
  },
  {
   "cell_type": "code",
   "execution_count": 97,
   "metadata": {},
   "outputs": [
    {
     "data": {
      "text/plain": [
       "tensor(0.3333)"
      ]
     },
     "execution_count": 97,
     "metadata": {},
     "output_type": "execute_result"
    }
   ],
   "source": [
    "em_globalpoiter(y_true, y_pre)"
   ]
  },
  {
   "cell_type": "code",
   "execution_count": 92,
   "metadata": {},
   "outputs": [
    {
     "data": {
      "text/plain": [
       "tensor([[[[0, 0, 1, 1],\n",
       "          [1, 1, 0, 0],\n",
       "          [0, 1, 0, 1],\n",
       "          [1, 1, 1, 1]],\n",
       "\n",
       "         [[1, 0, 0, 1],\n",
       "          [1, 1, 1, 1],\n",
       "          [0, 0, 0, 1],\n",
       "          [1, 0, 0, 0]],\n",
       "\n",
       "         [[0, 0, 1, 1],\n",
       "          [1, 0, 1, 1],\n",
       "          [1, 1, 0, 0],\n",
       "          [1, 0, 0, 1]]],\n",
       "\n",
       "\n",
       "        [[[1, 0, 0, 0],\n",
       "          [1, 1, 0, 0],\n",
       "          [1, 0, 1, 0],\n",
       "          [1, 1, 0, 0]],\n",
       "\n",
       "         [[1, 1, 1, 0],\n",
       "          [0, 1, 1, 0],\n",
       "          [0, 0, 0, 1],\n",
       "          [1, 0, 1, 1]],\n",
       "\n",
       "         [[0, 0, 0, 1],\n",
       "          [1, 0, 1, 0],\n",
       "          [1, 0, 1, 1],\n",
       "          [1, 1, 0, 1]]]])"
      ]
     },
     "execution_count": 92,
     "metadata": {},
     "output_type": "execute_result"
    }
   ],
   "source": [
    "a = torch.randint(0, 2, (2,3,4,4))\n",
    "a"
   ]
  },
  {
   "cell_type": "code",
   "execution_count": 90,
   "metadata": {},
   "outputs": [
    {
     "data": {
      "text/plain": [
       "[{'a': [(0, 0),\n",
       "   (0, 2),\n",
       "   (0, 3),\n",
       "   (1, 1),\n",
       "   (1, 2),\n",
       "   (1, 3),\n",
       "   (2, 0),\n",
       "   (2, 3),\n",
       "   (3, 0),\n",
       "   (3, 1),\n",
       "   (3, 2),\n",
       "   (3, 3),\n",
       "   (0, 3),\n",
       "   (1, 1),\n",
       "   (1, 3),\n",
       "   (2, 3),\n",
       "   (3, 0)],\n",
       "  'b': [(0, 0),\n",
       "   (0, 3),\n",
       "   (1, 0),\n",
       "   (1, 2),\n",
       "   (2, 0),\n",
       "   (3, 2),\n",
       "   (0, 1),\n",
       "   (0, 3),\n",
       "   (1, 0),\n",
       "   (1, 1),\n",
       "   (1, 3),\n",
       "   (2, 0),\n",
       "   (3, 1),\n",
       "   (3, 3)],\n",
       "  'c': [(0, 0),\n",
       "   (0, 2),\n",
       "   (0, 3),\n",
       "   (1, 0),\n",
       "   (1, 1),\n",
       "   (1, 3),\n",
       "   (2, 0),\n",
       "   (2, 1),\n",
       "   (2, 2),\n",
       "   (0, 0),\n",
       "   (0, 2),\n",
       "   (0, 3),\n",
       "   (1, 1),\n",
       "   (1, 2),\n",
       "   (1, 3),\n",
       "   (2, 0),\n",
       "   (3, 2),\n",
       "   (3, 3)]},\n",
       " {'a': [(0, 0),\n",
       "   (0, 2),\n",
       "   (0, 3),\n",
       "   (1, 1),\n",
       "   (1, 2),\n",
       "   (1, 3),\n",
       "   (2, 0),\n",
       "   (2, 3),\n",
       "   (3, 0),\n",
       "   (3, 1),\n",
       "   (3, 2),\n",
       "   (3, 3),\n",
       "   (0, 3),\n",
       "   (1, 1),\n",
       "   (1, 3),\n",
       "   (2, 3),\n",
       "   (3, 0)],\n",
       "  'b': [(0, 0),\n",
       "   (0, 3),\n",
       "   (1, 0),\n",
       "   (1, 2),\n",
       "   (2, 0),\n",
       "   (3, 2),\n",
       "   (0, 1),\n",
       "   (0, 3),\n",
       "   (1, 0),\n",
       "   (1, 1),\n",
       "   (1, 3),\n",
       "   (2, 0),\n",
       "   (3, 1),\n",
       "   (3, 3)],\n",
       "  'c': [(0, 0),\n",
       "   (0, 2),\n",
       "   (0, 3),\n",
       "   (1, 0),\n",
       "   (1, 1),\n",
       "   (1, 3),\n",
       "   (2, 0),\n",
       "   (2, 1),\n",
       "   (2, 2),\n",
       "   (0, 0),\n",
       "   (0, 2),\n",
       "   (0, 3),\n",
       "   (1, 1),\n",
       "   (1, 2),\n",
       "   (1, 3),\n",
       "   (2, 0),\n",
       "   (3, 2),\n",
       "   (3, 3)]}]"
      ]
     },
     "execution_count": 90,
     "metadata": {},
     "output_type": "execute_result"
    }
   ],
   "source": [
    "predict_globalpointer(a, ['a', 'b', 'c'])"
   ]
  },
  {
   "cell_type": "code",
   "execution_count": null,
   "metadata": {},
   "outputs": [],
   "source": []
  },
  {
   "cell_type": "code",
   "execution_count": 71,
   "metadata": {},
   "outputs": [],
   "source": [
    "model = EfficientGlobalPointer(10, 768)"
   ]
  },
  {
   "cell_type": "code",
   "execution_count": 72,
   "metadata": {},
   "outputs": [],
   "source": [
    "input = torch.randn(2, 512, 768)\n",
    "mask_t = torch.cat([torch.ones(2, 511).to(int), torch.zeros(2,1).to(int)], dim=-1)\n",
    "y_true =F.one_hot(torch.randint(0, 10, (2, 512, 512)))\n"
   ]
  },
  {
   "cell_type": "code",
   "execution_count": 73,
   "metadata": {},
   "outputs": [],
   "source": [
    "logits = model(input, mask_t)"
   ]
  },
  {
   "cell_type": "code",
   "execution_count": 74,
   "metadata": {},
   "outputs": [
    {
     "data": {
      "text/plain": [
       "(torch.Size([2, 10, 512, 512]), torch.Size([2, 512, 512, 10]))"
      ]
     },
     "execution_count": 74,
     "metadata": {},
     "output_type": "execute_result"
    }
   ],
   "source": [
    "logits.shape, y_true.shape"
   ]
  },
  {
   "cell_type": "code",
   "execution_count": 75,
   "metadata": {},
   "outputs": [
    {
     "data": {
      "text/plain": [
       "tensor(10021.7607, grad_fn=<MeanBackward0>)"
      ]
     },
     "execution_count": 75,
     "metadata": {},
     "output_type": "execute_result"
    }
   ],
   "source": [
    "global_pointer_loss(y_true, logits)"
   ]
  },
  {
   "cell_type": "code",
   "execution_count": 60,
   "metadata": {},
   "outputs": [
    {
     "data": {
      "text/plain": [
       "tensor([10021.7715, 10021.7861, 10021.7705, 10021.7842, 10021.7842, 10021.7891,\n",
       "        10021.7959, 10021.7861, 10021.7852, 10021.7510, 10021.7266, 10021.7422,\n",
       "        10021.7197, 10021.7324, 10021.7471, 10021.7354, 10021.7383, 10021.7227,\n",
       "        10021.7217, 10021.7334], grad_fn=<AddBackward0>)"
      ]
     },
     "execution_count": 60,
     "metadata": {},
     "output_type": "execute_result"
    }
   ],
   "source": [
    "t_logits = logits.reshape(20, -1)\n",
    "t_y_true = y_true.permute(0, 3, 1, 2).reshape(20, -1)\n",
    "multilabel_categorical_crossentropy(t_y_true, t_logits)"
   ]
  },
  {
   "cell_type": "code",
   "execution_count": 62,
   "metadata": {},
   "outputs": [],
   "source": [
    "t_logits = (1 - 2* t_y_true) * t_logits\n"
   ]
  },
  {
   "cell_type": "code",
   "execution_count": 77,
   "metadata": {},
   "outputs": [
    {
     "data": {
      "text/plain": [
       "(tensor([[[7, 8, 1],\n",
       "          [6, 1, 3],\n",
       "          [3, 9, 9]],\n",
       " \n",
       "         [[5, 1, 1],\n",
       "          [7, 4, 1],\n",
       "          [1, 3, 6]]]),\n",
       " tensor([[[0, 0, 1],\n",
       "          [1, 0, 0],\n",
       "          [1, 0, 0]],\n",
       " \n",
       "         [[0, 1, 1],\n",
       "          [0, 1, 1],\n",
       "          [0, 0, 0]]]))"
      ]
     },
     "execution_count": 77,
     "metadata": {},
     "output_type": "execute_result"
    }
   ],
   "source": [
    "a = torch.randint(0, 10, (2,3,3))\n",
    "b = torch.randint(0, 2, (2,3,3))\n",
    "a, b"
   ]
  },
  {
   "cell_type": "code",
   "execution_count": 78,
   "metadata": {},
   "outputs": [
    {
     "data": {
      "text/plain": [
       "tensor(0.1429)"
      ]
     },
     "execution_count": 78,
     "metadata": {},
     "output_type": "execute_result"
    }
   ],
   "source": [
    "f1_globalpointer(b, a-5)"
   ]
  },
  {
   "cell_type": "code",
   "execution_count": 79,
   "metadata": {},
   "outputs": [
    {
     "data": {
      "text/plain": [
       "0.13333333333333333"
      ]
     },
     "execution_count": 79,
     "metadata": {},
     "output_type": "execute_result"
    }
   ],
   "source": [
    "2/15"
   ]
  },
  {
   "cell_type": "code",
   "execution_count": 63,
   "metadata": {},
   "outputs": [
    {
     "data": {
      "text/plain": [
       "tensor([10009.4805, 10009.4951, 10009.4727, 10009.4912, 10009.4893, 10009.4941,\n",
       "        10009.5039, 10009.4941, 10009.4912, 10009.4541, 10009.4814, 10009.4971,\n",
       "        10009.4766, 10009.4863, 10009.5029, 10009.4893, 10009.4941, 10009.4775,\n",
       "        10009.4746, 10009.4893], grad_fn=<LogsumexpBackward>)"
      ]
     },
     "execution_count": 63,
     "metadata": {},
     "output_type": "execute_result"
    }
   ],
   "source": [
    "torch.logsumexp(t_logits, -1)"
   ]
  },
  {
   "cell_type": "code",
   "execution_count": 64,
   "metadata": {},
   "outputs": [
    {
     "data": {
      "text/plain": [
       "tensor([12.3991, 12.3991, 12.3991, 12.3991, 12.3991, 12.3991, 12.3991, 12.3991,\n",
       "        12.3991, 12.3991, 12.3503, 12.3503, 12.3503, 12.3503, 12.3503, 12.3503,\n",
       "        12.3503, 12.3503, 12.3503, 12.3503], grad_fn=<LogsumexpBackward>)"
      ]
     },
     "execution_count": 64,
     "metadata": {},
     "output_type": "execute_result"
    }
   ],
   "source": [
    "torch.logsumexp(logits.reshape(20, -1), -1)"
   ]
  },
  {
   "cell_type": "code",
   "execution_count": 57,
   "metadata": {},
   "outputs": [
    {
     "data": {
      "text/plain": [
       "tensor([12.3991, 12.3991, 12.3991, 12.3991, 12.3991, 12.3991, 12.3991, 12.3991,\n",
       "        12.3991, 12.3991, 12.3503, 12.3503, 12.3503, 12.3503, 12.3503, 12.3503,\n",
       "        12.3503, 12.3503, 12.3503, 12.3503], grad_fn=<LogsumexpBackward>)"
      ]
     },
     "execution_count": 57,
     "metadata": {},
     "output_type": "execute_result"
    }
   ],
   "source": [
    "torch.logsumexp(logits.reshape(20, -1), -1)"
   ]
  },
  {
   "cell_type": "code",
   "execution_count": 10,
   "metadata": {},
   "outputs": [],
   "source": [
    "logits = logits.reshape(20, -1)\n",
    "y_true = y_true.permute(0, 3, 1, 2).reshape(20, -1)"
   ]
  },
  {
   "cell_type": "code",
   "execution_count": 37,
   "metadata": {},
   "outputs": [
    {
     "data": {
      "text/plain": [
       "tensor([10016.7969, 10016.3760, 10016.5176, 10016.6191, 10016.8467, 10016.2705,\n",
       "        10016.6943, 10016.6387, 10016.7490, 10016.5791, 10016.7041, 10016.6104,\n",
       "        10016.7402, 10016.7080, 10016.7930, 10016.4590, 10016.2832, 10016.7734,\n",
       "        10016.5234, 10016.6299], grad_fn=<AddBackward0>)"
      ]
     },
     "execution_count": 37,
     "metadata": {},
     "output_type": "execute_result"
    }
   ],
   "source": [
    "multilabel_categorical_crossentropy(y_true, logits)"
   ]
  },
  {
   "cell_type": "code",
   "execution_count": 12,
   "metadata": {},
   "outputs": [
    {
     "data": {
      "text/plain": [
       "tensor([[ 1.2524e+00, -1.5804e+00, -2.7494e-01,  ...,  0.0000e+00,\n",
       "          0.0000e+00, -1.0000e+04],\n",
       "        [ 1.2524e+00, -1.5804e+00, -2.7494e-01,  ...,  0.0000e+00,\n",
       "          0.0000e+00, -1.0000e+04],\n",
       "        [ 1.2524e+00, -1.5804e+00, -2.7494e-01,  ...,  0.0000e+00,\n",
       "          0.0000e+00, -1.0000e+04],\n",
       "        ...,\n",
       "        [-6.4900e-01,  9.2355e-01,  1.0836e+00,  ...,  0.0000e+00,\n",
       "          0.0000e+00, -1.0000e+04],\n",
       "        [-6.4900e-01,  9.2355e-01,  1.0836e+00,  ...,  0.0000e+00,\n",
       "          0.0000e+00, -1.0000e+04],\n",
       "        [-6.4900e-01,  9.2355e-01,  1.0836e+00,  ...,  0.0000e+00,\n",
       "          0.0000e+00, -1.0000e+04]], grad_fn=<UnsafeViewBackward>)"
      ]
     },
     "execution_count": 12,
     "metadata": {},
     "output_type": "execute_result"
    }
   ],
   "source": [
    "logits"
   ]
  },
  {
   "cell_type": "code",
   "execution_count": 14,
   "metadata": {},
   "outputs": [
    {
     "ename": "RuntimeError",
     "evalue": "value cannot be converted to type int64_t without overflow: inf",
     "output_type": "error",
     "traceback": [
      "\u001b[1;31m---------------------------------------------------------------------------\u001b[0m",
      "\u001b[1;31mRuntimeError\u001b[0m                              Traceback (most recent call last)",
      "\u001b[1;32m<ipython-input-14-659554282cc7>\u001b[0m in \u001b[0;36m<module>\u001b[1;34m\u001b[0m\n\u001b[1;32m----> 1\u001b[1;33m \u001b[0mtorch\u001b[0m\u001b[1;33m.\u001b[0m\u001b[0mlogsumexp\u001b[0m\u001b[1;33m(\u001b[0m\u001b[0mlogits\u001b[0m\u001b[1;33m,\u001b[0m \u001b[1;33m-\u001b[0m\u001b[1;36m1\u001b[0m\u001b[1;33m)\u001b[0m\u001b[1;33m,\u001b[0m \u001b[0mtorch\u001b[0m\u001b[1;33m.\u001b[0m\u001b[0mlogsumexp\u001b[0m\u001b[1;33m(\u001b[0m\u001b[0my_true\u001b[0m\u001b[1;33m,\u001b[0m \u001b[1;33m-\u001b[0m\u001b[1;36m1\u001b[0m\u001b[1;33m)\u001b[0m\u001b[1;33m\u001b[0m\u001b[0m\n\u001b[0m",
      "\u001b[1;31mRuntimeError\u001b[0m: value cannot be converted to type int64_t without overflow: inf"
     ]
    }
   ],
   "source": [
    "torch.logsumexp(logits, -1), torch.logsumexp(y_true, -1)"
   ]
  },
  {
   "cell_type": "code",
   "execution_count": 27,
   "metadata": {},
   "outputs": [
    {
     "data": {
      "text/plain": [
       "tensor([12.6359, 12.6353, 12.6348, 12.6350, 12.6348, 12.6350, 12.6337, 12.6366,\n",
       "        12.6354, 12.6356, 12.6349, 12.6357, 12.6343, 12.6341, 12.6344, 12.6357,\n",
       "        12.6349, 12.6360, 12.6358, 12.6364], dtype=torch.float64)"
      ]
     },
     "execution_count": 27,
     "metadata": {},
     "output_type": "execute_result"
    }
   ],
   "source": [
    "torch.logsumexp(y_true.to(float), -1)"
   ]
  },
  {
   "cell_type": "code",
   "execution_count": 18,
   "metadata": {},
   "outputs": [
    {
     "data": {
      "text/plain": [
       "tensor([307412.1250, 307228.2812, 307071.8750, 307135.5000, 307061.5938,\n",
       "        307114.8438, 306711.0625, 307608.0000, 307236.8750, 307297.0000,\n",
       "        307090.8125, 307326.1875, 306896.6250, 306845.0938, 306944.7500,\n",
       "        307345.1250, 307101.1250, 307417.2812, 307372.5938, 307537.5625])"
      ]
     },
     "execution_count": 18,
     "metadata": {},
     "output_type": "execute_result"
    }
   ],
   "source": [
    "a = torch.sum(torch.exp(y_true), -1)\n",
    "a"
   ]
  },
  {
   "cell_type": "code",
   "execution_count": 19,
   "metadata": {},
   "outputs": [
    {
     "data": {
      "text/plain": [
       "tensor([12.6359, 12.6353, 12.6348, 12.6350, 12.6348, 12.6350, 12.6337, 12.6366,\n",
       "        12.6354, 12.6356, 12.6349, 12.6357, 12.6343, 12.6341, 12.6344, 12.6357,\n",
       "        12.6349, 12.6360, 12.6358, 12.6364])"
      ]
     },
     "execution_count": 19,
     "metadata": {},
     "output_type": "execute_result"
    }
   ],
   "source": [
    "torch.log(a)"
   ]
  },
  {
   "cell_type": "code",
   "execution_count": 24,
   "metadata": {},
   "outputs": [
    {
     "data": {
      "text/plain": [
       "torch.Size([20, 262144])"
      ]
     },
     "execution_count": 24,
     "metadata": {},
     "output_type": "execute_result"
    }
   ],
   "source": [
    "y_true.shape"
   ]
  },
  {
   "cell_type": "code",
   "execution_count": 125,
   "metadata": {},
   "outputs": [
    {
     "data": {
      "text/plain": [
       "torch.Size([2, 1, 1, 512])"
      ]
     },
     "execution_count": 125,
     "metadata": {},
     "output_type": "execute_result"
    }
   ],
   "source": [
    "mask_t = torch.cat([torch.ones(2,511), torch.zeros(2, 1)], dim=-1)\n",
    "for i in range(2):\n",
    "    mask_t = mask_t.unsqueeze(1)\n",
    "mask_t.shape"
   ]
  },
  {
   "cell_type": "code",
   "execution_count": 121,
   "metadata": {},
   "outputs": [],
   "source": [
    "c = mask(a, mask_t, -1, 0)"
   ]
  },
  {
   "cell_type": "code",
   "execution_count": 128,
   "metadata": {},
   "outputs": [
    {
     "data": {
      "text/plain": [
       "tensor([[[[ 6.1681e-01,  9.2337e-01,  6.8976e-01,  ...,  8.1657e-01,\n",
       "            4.9162e-01, -3.2247e-01],\n",
       "          [-5.0044e-01,  9.0326e-01,  4.9031e-01,  ...,  8.9177e-01,\n",
       "           -3.7672e-02, -6.6672e-02],\n",
       "          [ 3.2430e-01, -1.0819e+00, -9.6953e-01,  ..., -1.8766e+00,\n",
       "            5.2220e-01, -1.3683e+00],\n",
       "          ...,\n",
       "          [ 1.3276e+00, -3.4962e-02,  4.1144e-01,  ..., -1.2348e+00,\n",
       "           -1.3301e+00,  1.4601e+00],\n",
       "          [ 1.8981e-01,  6.5370e-01,  1.8940e+00,  ...,  3.5038e-01,\n",
       "            6.2200e-01,  8.4701e-01],\n",
       "          [ 1.3901e-01,  5.4822e-02,  8.2181e-01,  ..., -5.4730e-02,\n",
       "           -2.8861e+00,  1.0642e+00]],\n",
       "\n",
       "         [[ 1.1364e-01, -1.0161e+00,  1.6453e-01,  ..., -1.3152e+00,\n",
       "            2.7253e-01,  2.9808e+00],\n",
       "          [-9.6373e-01, -1.1081e+00, -2.1150e-01,  ...,  1.1506e+00,\n",
       "           -5.9712e-01, -1.2213e+00],\n",
       "          [-5.0249e-01, -1.2690e+00,  1.7970e+00,  ...,  1.5459e+00,\n",
       "           -1.0546e+00, -1.7689e+00],\n",
       "          ...,\n",
       "          [-1.9589e-01, -1.3002e+00, -1.8860e-01,  ...,  2.8548e-01,\n",
       "            1.0896e+00, -1.3937e+00],\n",
       "          [-5.1323e-01,  1.6593e+00, -1.4275e+00,  ...,  2.3799e-01,\n",
       "           -1.0333e+00, -1.9323e+00],\n",
       "          [-1.7335e-01,  1.5442e+00, -1.2200e+00,  ..., -2.0568e+00,\n",
       "            4.0121e-01, -1.6608e-01]],\n",
       "\n",
       "         [[-1.4934e+00,  1.2982e-01,  1.3950e-02,  ...,  6.4957e-01,\n",
       "           -1.0962e+00,  1.9561e+00],\n",
       "          [-2.9264e-01,  1.5991e-01,  6.5345e-01,  ...,  5.7305e-01,\n",
       "           -1.3065e+00,  1.1190e+00],\n",
       "          [-2.4521e-01, -5.8404e-01,  5.5488e-01,  ..., -7.6346e-02,\n",
       "            1.6123e+00,  8.9257e-01],\n",
       "          ...,\n",
       "          [-2.8576e-01,  8.4826e-01,  4.4851e-01,  ..., -5.9647e-01,\n",
       "           -3.0778e-01, -3.6924e-01],\n",
       "          [ 9.4467e-01, -6.2824e-01, -4.8017e-02,  ..., -1.9231e-01,\n",
       "            1.3531e+00, -2.8515e-01],\n",
       "          [ 1.4258e-01,  7.5359e-01,  1.1546e+00,  ..., -6.3805e-01,\n",
       "            6.0262e-01,  5.5435e-01]],\n",
       "\n",
       "         ...,\n",
       "\n",
       "         [[ 7.3034e-02, -1.9442e+00,  2.2566e-01,  ...,  9.4189e-02,\n",
       "            8.1361e-01, -3.6877e-01],\n",
       "          [-2.2911e-01, -1.5056e+00,  1.0417e+00,  ...,  1.2644e+00,\n",
       "            5.1039e-01, -1.1789e+00],\n",
       "          [ 3.8614e-01,  1.0985e+00,  4.0129e-01,  ..., -7.7699e-01,\n",
       "           -2.9977e-01, -1.9080e+00],\n",
       "          ...,\n",
       "          [-5.1484e-01, -1.5139e+00,  3.0520e-01,  ...,  2.0576e+00,\n",
       "           -1.1140e+00, -2.9840e-01],\n",
       "          [-1.5664e+00,  4.4451e-01,  3.5312e-01,  ...,  5.9752e-01,\n",
       "            1.0758e-01,  9.9096e-01],\n",
       "          [ 2.0447e+00, -1.0998e+00,  1.3703e+00,  ...,  7.7734e-01,\n",
       "           -2.2287e+00,  1.6646e-01]],\n",
       "\n",
       "         [[-7.6259e-01, -3.6073e-01,  6.6823e-01,  ..., -1.1180e+00,\n",
       "            3.1244e-01, -9.3134e-01],\n",
       "          [ 1.4885e-01,  1.7511e+00, -9.9651e-02,  ...,  2.6163e+00,\n",
       "            1.8914e-01, -7.9086e-01],\n",
       "          [ 1.0024e+00, -3.5603e-01, -6.1514e-01,  ...,  2.4864e-01,\n",
       "            1.5479e+00, -1.3645e+00],\n",
       "          ...,\n",
       "          [ 5.4983e-01, -5.8520e-01, -8.4390e-01,  ..., -8.6826e-01,\n",
       "            1.4081e+00, -7.9052e-01],\n",
       "          [ 1.3587e+00,  1.1727e+00,  2.3453e-01,  ..., -5.8916e-01,\n",
       "           -2.5474e+00,  8.5407e-01],\n",
       "          [ 6.6850e-01,  1.2516e+00, -9.9752e-01,  ..., -1.3326e+00,\n",
       "           -1.1680e+00, -7.4795e-01]],\n",
       "\n",
       "         [[ 2.3947e+00,  5.5391e-01,  1.9270e+00,  ...,  1.0128e+00,\n",
       "            4.4628e-03,  1.0016e+00],\n",
       "          [-7.2179e-01,  5.7606e-01, -4.0154e-01,  ...,  2.9577e+00,\n",
       "            1.5106e+00, -7.9587e-01],\n",
       "          [ 6.0399e-01, -9.4997e-01, -7.6317e-01,  ..., -3.9172e-01,\n",
       "            1.1606e+00,  1.7034e-01],\n",
       "          ...,\n",
       "          [ 9.1039e-01, -7.5673e-01,  6.9940e-01,  ...,  1.7233e+00,\n",
       "            1.6798e-01, -2.5662e-02],\n",
       "          [-9.5584e-01,  2.4245e+00, -3.7402e-01,  ..., -3.7586e-01,\n",
       "           -1.0245e+00,  3.4499e-01],\n",
       "          [ 6.0298e-01, -8.8584e-01, -1.0796e+00,  ..., -2.5460e+00,\n",
       "           -8.7785e-01,  1.2831e+00]]],\n",
       "\n",
       "\n",
       "        [[[-9.2979e-02, -1.1232e+00, -1.1661e-01,  ...,  4.7456e-01,\n",
       "           -1.1761e+00, -1.4124e+00],\n",
       "          [-5.5815e-01, -1.5989e+00, -6.7115e-01,  ..., -1.3889e-01,\n",
       "           -6.3727e-01, -1.4824e-01],\n",
       "          [-2.3034e-01, -1.3422e+00,  3.9030e-01,  ...,  1.4916e+00,\n",
       "           -2.5393e-01, -1.4408e+00],\n",
       "          ...,\n",
       "          [ 1.6373e+00, -7.7309e-01,  4.3331e-01,  ..., -1.9041e-01,\n",
       "            2.0588e-01,  1.2034e-01],\n",
       "          [-1.5245e+00, -1.8045e-02,  1.3636e+00,  ..., -6.2427e-01,\n",
       "           -9.8904e-02,  1.8945e+00],\n",
       "          [-1.4014e-01, -1.5719e-01, -2.1444e-01,  ..., -1.2265e+00,\n",
       "            7.1080e-01, -4.8331e-01]],\n",
       "\n",
       "         [[-3.8389e-01, -1.9924e+00, -3.3160e-01,  ...,  5.5352e-01,\n",
       "            2.1543e+00, -3.3201e-01],\n",
       "          [ 9.9550e-01,  5.4589e-01, -5.2335e-01,  ..., -1.0359e+00,\n",
       "            2.5427e+00, -7.3967e-01],\n",
       "          [-9.8304e-01, -1.7165e-01,  3.2073e-01,  ...,  2.6421e+00,\n",
       "            1.8038e+00,  1.3122e+00],\n",
       "          ...,\n",
       "          [ 6.8007e-01, -3.4773e-01, -1.6299e-01,  ..., -3.0084e-02,\n",
       "           -8.3507e-01,  6.3361e-01],\n",
       "          [-5.2032e-01, -1.3545e+00, -4.5212e-01,  ..., -4.0860e-01,\n",
       "           -7.8957e-01,  1.4172e-01],\n",
       "          [-4.6491e-01, -9.1597e-01, -1.0220e+00,  ...,  2.7148e-02,\n",
       "            2.6223e-01, -1.0461e+00]],\n",
       "\n",
       "         [[-1.0976e+00, -2.5180e-01, -4.3159e-01,  ...,  5.2167e-01,\n",
       "            1.6583e+00, -1.4640e+00],\n",
       "          [-9.6243e-01, -4.5494e-01,  1.1674e-01,  ...,  1.4684e-04,\n",
       "            1.4341e+00, -9.8606e-01],\n",
       "          [ 3.5614e-01, -5.6451e-01,  1.3536e+00,  ...,  2.4427e+00,\n",
       "            1.5813e-01, -3.7996e-02],\n",
       "          ...,\n",
       "          [-2.4233e-01,  9.1186e-01,  4.8131e-01,  ...,  2.1243e+00,\n",
       "            2.5722e-01, -1.1960e+00],\n",
       "          [-7.4615e-01, -3.5075e-01,  9.7669e-02,  ..., -1.3724e-01,\n",
       "           -6.8161e-01, -1.6036e+00],\n",
       "          [ 1.1668e+00,  5.5857e-01,  1.4185e-01,  ..., -9.6685e-01,\n",
       "           -3.0844e-01, -1.4198e+00]],\n",
       "\n",
       "         ...,\n",
       "\n",
       "         [[ 2.5193e+00, -1.6229e-01, -2.0686e+00,  ...,  2.3699e+00,\n",
       "            1.0169e+00, -1.9459e-02],\n",
       "          [ 2.9848e-01,  1.1958e+00,  1.0482e+00,  ...,  6.6025e-01,\n",
       "            1.2903e-01, -1.2489e+00],\n",
       "          [ 9.7763e-01,  8.2550e-02,  8.1422e-01,  ...,  2.4891e-01,\n",
       "           -4.4601e-01,  4.2726e-01],\n",
       "          ...,\n",
       "          [ 2.8459e-01, -1.9785e-01, -1.0477e+00,  ..., -6.7406e-01,\n",
       "            7.0677e-01, -2.1161e+00],\n",
       "          [-7.8497e-02,  2.6466e-01, -1.9659e-01,  ...,  1.0024e+00,\n",
       "            6.8152e-01,  2.8193e-01],\n",
       "          [ 3.1143e-01, -8.6839e-01,  6.9132e-01,  ..., -7.3529e-01,\n",
       "           -1.5523e+00, -3.9414e-01]],\n",
       "\n",
       "         [[ 2.8837e+00, -8.9833e-01,  3.7062e-01,  ..., -3.6425e-01,\n",
       "           -1.1970e+00,  1.4605e+00],\n",
       "          [-5.8704e-02,  6.1179e-01,  2.4952e-01,  ..., -3.1866e-01,\n",
       "           -7.9340e-01,  2.6249e+00],\n",
       "          [ 9.8635e-02,  2.4106e-01,  4.8762e-01,  ...,  3.7745e-02,\n",
       "           -7.6548e-01, -8.6735e-02],\n",
       "          ...,\n",
       "          [ 5.3558e-01,  8.7088e-02,  1.4636e+00,  ..., -6.3145e-01,\n",
       "           -1.3169e+00,  2.3296e+00],\n",
       "          [-1.3958e-01, -8.4494e-01, -1.4321e+00,  ...,  7.5612e-01,\n",
       "            8.3572e-01, -6.4272e-01],\n",
       "          [-1.0517e+00,  1.6828e+00, -1.7134e+00,  ...,  2.2635e-02,\n",
       "           -6.3753e-01,  1.9401e+00]],\n",
       "\n",
       "         [[ 1.2699e-01, -4.5758e-01,  1.7662e-01,  ...,  5.1927e-01,\n",
       "            6.6067e-02,  3.8017e-01],\n",
       "          [-1.3009e+00,  6.8583e-01,  5.4836e-01,  ...,  1.5971e-01,\n",
       "            6.6881e-01,  1.1220e+00],\n",
       "          [ 1.6610e+00,  4.5753e-01,  1.0033e+00,  ..., -2.1073e-01,\n",
       "            6.5995e-01,  3.9296e-01],\n",
       "          ...,\n",
       "          [ 1.1396e+00,  2.5634e-01,  9.6014e-01,  ...,  6.3049e-01,\n",
       "           -9.7240e-01, -2.1936e+00],\n",
       "          [ 7.8854e-01, -8.9732e-01, -3.6435e-01,  ...,  1.8888e-01,\n",
       "           -1.9765e+00, -1.0736e+00],\n",
       "          [ 7.5111e-01, -3.8116e-01, -8.8737e-01,  ...,  1.1657e+00,\n",
       "           -8.2185e-01, -1.0435e+00]]]])"
      ]
     },
     "execution_count": 128,
     "metadata": {},
     "output_type": "execute_result"
    }
   ],
   "source": [
    "a.masked_fill(mask_t, 0)"
   ]
  },
  {
   "cell_type": "code",
   "execution_count": 123,
   "metadata": {},
   "outputs": [
    {
     "data": {
      "text/plain": [
       "tensor(-0.3225)"
      ]
     },
     "execution_count": 123,
     "metadata": {},
     "output_type": "execute_result"
    }
   ],
   "source": [
    "c [0, 0, 0,]"
   ]
  },
  {
   "cell_type": "code",
   "execution_count": 111,
   "metadata": {},
   "outputs": [
    {
     "data": {
      "text/plain": [
       "tensor([[[[-0.7083,  0.6395,  0.9476,  1.6247],\n",
       "          [-0.7797, -0.5809, -0.1415, -0.2204],\n",
       "          [-0.7749, -1.5189,  0.0349,  0.5796],\n",
       "          [ 0.9347, -1.0274,  2.0106,  0.2294]],\n",
       "\n",
       "         [[-0.2601, -0.2294, -0.4697, -1.3011],\n",
       "          [-0.7359,  0.2582, -1.7443, -1.4112],\n",
       "          [ 0.2663, -0.2478,  0.6486,  0.3078],\n",
       "          [ 2.4497, -1.0616, -2.0192,  0.4455]],\n",
       "\n",
       "         [[ 1.0837,  0.1428, -0.2025,  0.1203],\n",
       "          [-0.3908, -0.2356,  0.9879,  0.4874],\n",
       "          [-1.2784, -0.8443,  1.4261, -0.3821],\n",
       "          [ 0.3224,  0.3406,  0.6424, -1.9446]]],\n",
       "\n",
       "\n",
       "        [[[-1.8480,  0.2892, -0.5073, -0.6431],\n",
       "          [-1.0819, -0.9472,  1.5423, -0.0196],\n",
       "          [-1.5680,  0.0045, -0.0828,  0.6299],\n",
       "          [ 0.7570, -1.0380,  0.7313, -1.1656]],\n",
       "\n",
       "         [[-0.9150, -0.6224,  0.4106, -0.7184],\n",
       "          [ 2.0652, -0.8757, -1.4853, -0.5003],\n",
       "          [-1.0999, -0.9408, -0.9605,  0.1260],\n",
       "          [-1.6409,  0.1670,  0.6775,  0.0262]],\n",
       "\n",
       "         [[ 1.5063, -0.4165, -0.3572,  1.3234],\n",
       "          [-0.6164,  1.0701,  0.2474,  0.4585],\n",
       "          [ 1.3448,  0.5867, -0.4014,  0.3024],\n",
       "          [-0.8160, -0.6706,  0.6172, -1.4123]]]])"
      ]
     },
     "execution_count": 111,
     "metadata": {},
     "output_type": "execute_result"
    }
   ],
   "source": [
    "a = torch.randn(2,3,4,4)\n",
    "\n",
    "a"
   ]
  },
  {
   "cell_type": "code",
   "execution_count": 94,
   "metadata": {},
   "outputs": [
    {
     "data": {
      "text/plain": [
       "torch.Size([2, 4])"
      ]
     },
     "execution_count": 94,
     "metadata": {},
     "output_type": "execute_result"
    }
   ],
   "source": []
  },
  {
   "cell_type": "code",
   "execution_count": 112,
   "metadata": {},
   "outputs": [
    {
     "data": {
      "text/plain": [
       "torch.Size([2, 4])"
      ]
     },
     "execution_count": 112,
     "metadata": {},
     "output_type": "execute_result"
    }
   ],
   "source": [
    "m_t = torch.tensor([[1, 1, 1, 0], [1, 1, 0, 0]])\n",
    "# for i in range(1):\n",
    "#     m_t = m_t.unsqueeze(1)\n",
    "m_t.shape"
   ]
  },
  {
   "cell_type": "code",
   "execution_count": 113,
   "metadata": {},
   "outputs": [
    {
     "ename": "RuntimeError",
     "evalue": "The size of tensor a (512) must match the size of tensor b (4) at non-singleton dimension 3",
     "output_type": "error",
     "traceback": [
      "\u001b[1;31m---------------------------------------------------------------------------\u001b[0m",
      "\u001b[1;31mRuntimeError\u001b[0m                              Traceback (most recent call last)",
      "\u001b[1;32m<ipython-input-113-438704443e42>\u001b[0m in \u001b[0;36m<module>\u001b[1;34m\u001b[0m\n\u001b[1;32m----> 1\u001b[1;33m \u001b[0mmask\u001b[0m\u001b[1;33m(\u001b[0m\u001b[0ma\u001b[0m\u001b[1;33m,\u001b[0m \u001b[0mmask_t\u001b[0m\u001b[1;33m,\u001b[0m \u001b[1;33m-\u001b[0m\u001b[1;36m1\u001b[0m\u001b[1;33m,\u001b[0m \u001b[1;36m0\u001b[0m\u001b[1;33m)\u001b[0m\u001b[1;33m\u001b[0m\u001b[0m\n\u001b[0m",
      "\u001b[1;32m<ipython-input-104-ebe5ac299912>\u001b[0m in \u001b[0;36mmask\u001b[1;34m(tensor, tensor_mask, mask_dim, mask_value)\u001b[0m\n\u001b[0;32m     18\u001b[0m   \u001b[1;32mfor\u001b[0m \u001b[0m_\u001b[0m \u001b[1;32min\u001b[0m \u001b[0mrange\u001b[0m\u001b[1;33m(\u001b[0m\u001b[0mtensor\u001b[0m\u001b[1;33m.\u001b[0m\u001b[0mdim\u001b[0m\u001b[1;33m(\u001b[0m\u001b[1;33m)\u001b[0m \u001b[1;33m-\u001b[0m \u001b[0mtensor_mask\u001b[0m\u001b[1;33m.\u001b[0m\u001b[0mdim\u001b[0m\u001b[1;33m(\u001b[0m\u001b[1;33m)\u001b[0m\u001b[1;33m)\u001b[0m\u001b[1;33m:\u001b[0m\u001b[1;33m\u001b[0m\u001b[0m\n\u001b[0;32m     19\u001b[0m     \u001b[0mtensor_mask\u001b[0m \u001b[1;33m=\u001b[0m \u001b[0mtensor_mask\u001b[0m\u001b[1;33m.\u001b[0m\u001b[0munsqueeze\u001b[0m\u001b[1;33m(\u001b[0m\u001b[1;33m-\u001b[0m\u001b[1;36m1\u001b[0m\u001b[1;33m)\u001b[0m\u001b[1;33m\u001b[0m\u001b[0m\n\u001b[1;32m---> 20\u001b[1;33m   \u001b[1;32mreturn\u001b[0m \u001b[0mtensor\u001b[0m\u001b[1;33m.\u001b[0m\u001b[0mmasked_fill\u001b[0m\u001b[1;33m(\u001b[0m\u001b[0mtensor_mask\u001b[0m\u001b[1;33m,\u001b[0m \u001b[0mmask_value\u001b[0m\u001b[1;33m)\u001b[0m\u001b[1;33m\u001b[0m\u001b[0m\n\u001b[0m",
      "\u001b[1;31mRuntimeError\u001b[0m: The size of tensor a (512) must match the size of tensor b (4) at non-singleton dimension 3"
     ]
    }
   ],
   "source": [
    "mask(a, mask_t, -1, 0)"
   ]
  },
  {
   "cell_type": "code",
   "execution_count": 99,
   "metadata": {},
   "outputs": [
    {
     "ename": "RuntimeError",
     "evalue": "The size of tensor a (2) must match the size of tensor b (3) at non-singleton dimension 1",
     "output_type": "error",
     "traceback": [
      "\u001b[1;31m---------------------------------------------------------------------------\u001b[0m",
      "\u001b[1;31mRuntimeError\u001b[0m                              Traceback (most recent call last)",
      "\u001b[1;32m<ipython-input-99-c6fc0f5af0d3>\u001b[0m in \u001b[0;36m<module>\u001b[1;34m\u001b[0m\n\u001b[1;32m----> 1\u001b[1;33m \u001b[0ma\u001b[0m\u001b[1;33m.\u001b[0m\u001b[0mmasked_fill\u001b[0m\u001b[1;33m(\u001b[0m\u001b[0mm_t\u001b[0m\u001b[1;33m,\u001b[0m \u001b[1;36m0\u001b[0m\u001b[1;33m)\u001b[0m\u001b[1;33m\u001b[0m\u001b[0m\n\u001b[0m",
      "\u001b[1;31mRuntimeError\u001b[0m: The size of tensor a (2) must match the size of tensor b (3) at non-singleton dimension 1"
     ]
    }
   ],
   "source": [
    "a.masked_fill(m_t, 0)"
   ]
  },
  {
   "cell_type": "code",
   "execution_count": null,
   "metadata": {},
   "outputs": [],
   "source": []
  },
  {
   "cell_type": "code",
   "execution_count": 20,
   "metadata": {},
   "outputs": [
    {
     "data": {
      "text/plain": [
       "(tensor([[[-0.1185,  1.7025, -2.1981],\n",
       "          [-1.9562,  1.0296,  0.1012],\n",
       "          [ 1.6400, -1.7243,  0.6125]],\n",
       " \n",
       "         [[ 1.5104, -1.4737, -1.2959],\n",
       "          [ 0.9215, -0.1239,  0.9529],\n",
       "          [ 0.2102, -0.7892,  0.0976]]]),\n",
       " tensor([[-0.5226, -0.5000, -0.6552],\n",
       "         [-1.2526, -0.1788, -0.9412],\n",
       "         [-0.5666,  1.1390, -0.6709],\n",
       "         [ 1.1663,  0.4761, -0.3054]]))"
      ]
     },
     "execution_count": 20,
     "metadata": {},
     "output_type": "execute_result"
    }
   ],
   "source": [
    "a = torch.randn(2,3,3)\n",
    "b = torch.randn(4, 3)\n",
    "a, b"
   ]
  },
  {
   "cell_type": "code",
   "execution_count": 21,
   "metadata": {},
   "outputs": [
    {
     "data": {
      "text/plain": [
       "tensor([[[[-1.1637e+00,  6.7989e-01, -3.3760e+00],\n",
       "          [-2.9788e+00,  2.9596e-02, -1.0540e+00],\n",
       "          [ 4.6214e-01, -2.8795e+00, -6.9789e-01]],\n",
       "\n",
       "         [[-2.6237e+00,  2.7115e-01, -4.3920e+00],\n",
       "          [-3.3876e+00,  6.7206e-01, -1.0188e+00],\n",
       "          [-5.5386e-01, -2.8443e+00, -1.2699e+00]],\n",
       "\n",
       "         [[-1.2516e+00,  2.2750e+00, -3.4355e+00],\n",
       "          [-1.3837e+00,  3.3077e+00,  5.6933e-01],\n",
       "          [ 4.0255e-01, -1.2562e+00, -7.2924e-01]],\n",
       "\n",
       "         [[ 2.2142e+00,  3.3450e+00, -1.3372e+00],\n",
       "          [-3.1375e-01,  1.9818e+00,  2.7192e-01],\n",
       "          [ 2.5009e+00, -1.5536e+00,  1.7480e-03]]],\n",
       "\n",
       "\n",
       "        [[[ 4.6511e-01, -2.4964e+00, -2.4737e+00],\n",
       "          [-1.0114e-01, -1.1239e+00, -2.0235e-01],\n",
       "          [-9.6761e-01, -1.9444e+00, -1.2128e+00]],\n",
       "\n",
       "         [[-9.9484e-01, -2.9051e+00, -3.4897e+00],\n",
       "          [-5.0988e-01, -4.8147e-01, -1.6714e-01],\n",
       "          [-1.9836e+00, -1.9092e+00, -1.7849e+00]],\n",
       "\n",
       "         [[ 3.7727e-01, -9.0125e-01, -2.5333e+00],\n",
       "          [ 1.4940e+00,  2.1541e+00,  1.4210e+00],\n",
       "          [-1.0272e+00, -3.2101e-01, -1.2442e+00]],\n",
       "\n",
       "         [[ 3.8430e+00,  1.6872e-01, -4.3497e-01],\n",
       "          [ 2.5639e+00,  8.2832e-01,  1.1236e+00],\n",
       "          [ 1.0712e+00, -6.1842e-01, -5.1320e-01]]]])"
      ]
     },
     "execution_count": 21,
     "metadata": {},
     "output_type": "execute_result"
    }
   ],
   "source": [
    "c = a.unsqueeze(1) + b.unsqueeze(-1) + b.unsqueeze(-2)\n",
    "c"
   ]
  },
  {
   "cell_type": "code",
   "execution_count": 22,
   "metadata": {},
   "outputs": [
    {
     "data": {
      "text/plain": [
       "torch.Size([2, 4, 3, 3])"
      ]
     },
     "execution_count": 22,
     "metadata": {},
     "output_type": "execute_result"
    }
   ],
   "source": [
    "c.shape"
   ]
  },
  {
   "cell_type": "code",
   "execution_count": 18,
   "metadata": {},
   "outputs": [
    {
     "data": {
      "text/plain": [
       "tensor([[[ 0.5364,  0.0000,  0.0000],\n",
       "         [-0.5761,  0.0000,  0.0000]],\n",
       "\n",
       "        [[ 0.6233,  0.8007,  0.0000],\n",
       "         [-0.8446,  1.0971,  0.0000]],\n",
       "\n",
       "        [[ 1.2545,  0.2262,  0.0550],\n",
       "         [-1.4512,  0.7378,  1.4985]]])"
      ]
     },
     "execution_count": 18,
     "metadata": {},
     "output_type": "execute_result"
    }
   ],
   "source": [
    "b.transpose(1, 0)"
   ]
  },
  {
   "cell_type": "code",
   "execution_count": 6,
   "metadata": {},
   "outputs": [
    {
     "data": {
      "text/plain": [
       "tensor([[ 0.4895, -0.6885,  1.4711,  0.1186],\n",
       "        [-1.5220,  0.7241,  1.3750,  0.4996]])"
      ]
     },
     "execution_count": 6,
     "metadata": {},
     "output_type": "execute_result"
    }
   ],
   "source": [
    "b[:, ::2] = -a[:, 1::2]\n",
    "b[:, 1::2] = a[:, ::2]\n",
    "b"
   ]
  },
  {
   "cell_type": "code",
   "execution_count": 8,
   "metadata": {},
   "outputs": [
    {
     "data": {
      "text/plain": [
       "tensor([[ 0.4895,  1.4711],\n",
       "        [-1.5220,  1.3750]])"
      ]
     },
     "execution_count": 8,
     "metadata": {},
     "output_type": "execute_result"
    }
   ],
   "source": [
    "b[..., ::2]"
   ]
  },
  {
   "cell_type": "code",
   "execution_count": 9,
   "metadata": {},
   "outputs": [
    {
     "data": {
      "text/plain": [
       "tensor([[[-1.4303, -1.3988,  0.1014,  0.1428],\n",
       "         [-0.0617, -0.3197,  0.5897, -0.2629],\n",
       "         [ 0.8926,  1.7246,  0.0836, -0.2862]],\n",
       "\n",
       "        [[-0.9023, -0.2006, -0.9303,  0.9663],\n",
       "         [-1.7485,  1.5907, -1.2352,  1.4900],\n",
       "         [ 1.5242, -1.2376, -0.3518, -1.1154]]])"
      ]
     },
     "execution_count": 9,
     "metadata": {},
     "output_type": "execute_result"
    }
   ],
   "source": [
    "a = torch.randn(2,3,4)\n",
    "a"
   ]
  },
  {
   "cell_type": "code",
   "execution_count": 11,
   "metadata": {},
   "outputs": [
    {
     "data": {
      "text/plain": [
       "tensor([[[-1.4303,  0.1014],\n",
       "         [-0.0617,  0.5897],\n",
       "         [ 0.8926,  0.0836]],\n",
       "\n",
       "        [[-0.9023, -0.9303],\n",
       "         [-1.7485, -1.2352],\n",
       "         [ 1.5242, -0.3518]]])"
      ]
     },
     "execution_count": 11,
     "metadata": {},
     "output_type": "execute_result"
    }
   ],
   "source": [
    "a[..., ::2]"
   ]
  },
  {
   "cell_type": "code",
   "execution_count": null,
   "metadata": {},
   "outputs": [],
   "source": []
  }
 ],
 "metadata": {
  "interpreter": {
   "hash": "f799be808fed325aa55763a553701c5615c364379b16a04ac51703662e548339"
  },
  "kernelspec": {
   "display_name": "Python 3.6.5 ('py36')",
   "language": "python",
   "name": "python3"
  },
  "language_info": {
   "codemirror_mode": {
    "name": "ipython",
    "version": 3
   },
   "file_extension": ".py",
   "mimetype": "text/x-python",
   "name": "python",
   "nbconvert_exporter": "python",
   "pygments_lexer": "ipython3",
   "version": "3.6.5"
  },
  "orig_nbformat": 4
 },
 "nbformat": 4,
 "nbformat_minor": 2
}
