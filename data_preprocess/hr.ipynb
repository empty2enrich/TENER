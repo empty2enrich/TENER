{
 "cells": [
  {
   "cell_type": "markdown",
   "metadata": {},
   "source": [
    "# hr 数据预处理\n"
   ]
  },
  {
   "cell_type": "code",
   "execution_count": 38,
   "metadata": {},
   "outputs": [],
   "source": [
    "import re\n",
    "\n",
    "from collections import Counter\n",
    "from my_py_toolkit.file.file_toolkit import read_file, readjson, writejson, get_file_paths"
   ]
  },
  {
   "cell_type": "code",
   "execution_count": 39,
   "metadata": {},
   "outputs": [],
   "source": [
    "txt = '1、[@[@投资计划名称#Common_att*]：[@百年一武汉襄阳大厦不动产债权投资计划#Product*]#Relation_ide*]'\n",
    "reg_rel = '\\[@(?P<rel>.+)\\#Relation_ide\\*\\]'"
   ]
  },
  {
   "cell_type": "code",
   "execution_count": 40,
   "metadata": {},
   "outputs": [
    {
     "data": {
      "text/plain": [
       "({'rel': '[@投资计划名称#Common_att*]：[@百年一武汉襄阳大厦不动产债权投资计划#Product*]'},\n",
       " '[@[@投资计划名称#Common_att*]：[@百年一武汉襄阳大厦不动产债权投资计划#Product*]#Relation_ide*]')"
      ]
     },
     "execution_count": 40,
     "metadata": {},
     "output_type": "execute_result"
    }
   ],
   "source": [
    "match = re.search(reg_rel, txt)\n",
    "match.groupdict(), match.group()"
   ]
  },
  {
   "cell_type": "code",
   "execution_count": 41,
   "metadata": {},
   "outputs": [
    {
     "name": "stdout",
     "output_type": "stream",
     "text": [
      "{'ner_content': '投资计划名称', 'ner_name': 'Common_att'}\n",
      "{'ner_content': '百年一武汉襄阳大厦不动产债权投资计划', 'ner_name': 'Product'}\n"
     ]
    }
   ],
   "source": [
    "txt = '[@投资计划名称#Common_att*]：[@百年一武汉襄阳大厦不动产债权投资计划#Product*]222'\n",
    "reg_ner = '\\[@(?P<ner_content>.*?)\\#(?P<ner_name>.*?)\\*\\]'\n",
    "for match in re.finditer(reg_ner, txt):\n",
    "    print(match.groupdict())"
   ]
  },
  {
   "cell_type": "code",
   "execution_count": 57,
   "metadata": {},
   "outputs": [],
   "source": [
    "def handle_ner(txt):\n",
    "    reg_ner = '\\[[@$](?P<ner_content>.*?)\\#(?P<ner_name>.*?)\\*\\]'\n",
    "    pre_end = 0\n",
    "    txt_handle = ''\n",
    "    labels = []\n",
    "    for match in re.finditer(reg_ner, txt):\n",
    "        s, e = match.span()\n",
    "        txt_handle += txt[pre_end:s]\n",
    "        pre_end = e\n",
    "        ner_name = match['ner_name']\n",
    "        ner_content = match['ner_content']\n",
    "        labels.append((ner_name, ner_content, (len(txt_handle), len(txt_handle) + len(ner_content))))\n",
    "        txt_handle += ner_content\n",
    "    txt_handle += txt[pre_end:]\n",
    "    return txt_handle, labels\n",
    "\n"
   ]
  },
  {
   "cell_type": "code",
   "execution_count": 43,
   "metadata": {},
   "outputs": [
    {
     "data": {
      "text/plain": [
       "('投资计划名称：百年一武汉襄阳大厦不动产债权投资计划222',\n",
       " [('Common_att', '投资计划名称', (0, 6)),\n",
       "  ('Product', '百年一武汉襄阳大厦不动产债权投资计划', (7, 25))])"
      ]
     },
     "execution_count": 43,
     "metadata": {},
     "output_type": "execute_result"
    }
   ],
   "source": [
    "handle_ner(txt)"
   ]
  },
  {
   "cell_type": "code",
   "execution_count": 44,
   "metadata": {},
   "outputs": [
    {
     "data": {
      "text/plain": [
       "((22, 52), 'Product', 'Product')"
      ]
     },
     "execution_count": 44,
     "metadata": {},
     "output_type": "execute_result"
    }
   ],
   "source": [
    "match.span(), match['ner_name'], match.group('ner_name')"
   ]
  },
  {
   "cell_type": "code",
   "execution_count": 58,
   "metadata": {},
   "outputs": [],
   "source": [
    "def handle(txt):\n",
    "    reg_rel = '\\[[@$](?P<rel>.+)\\#Relation_ide\\*\\]'\n",
    "    pre_end = 0\n",
    "    txt_handle = ''\n",
    "    labels = []\n",
    "    for match in re.finditer(reg_rel, txt):\n",
    "        s, e = match.span()\n",
    "        txt_rel = match['rel']\n",
    "        # print(f'rel: {txt_rel}')\n",
    "        txt_handle += txt[pre_end:s]\n",
    "        pre_end = e\n",
    "        txt_ner, label_sub = handle_ner(txt_rel)\n",
    "        for i, item in enumerate(label_sub):\n",
    "            label_sub[i] = (item[0], item[1], [v + len(txt_handle) for v in item[2]])\n",
    "           \n",
    "        labels.append(label_sub)\n",
    "        txt_handle += txt_ner\n",
    "    \n",
    "    if pre_end < len(txt):\n",
    "        txt_ner, label_sub = handle_ner(txt[pre_end:])\n",
    "        for item in label_sub:\n",
    "            scope = [v + len(txt_handle) for v in item[2]]\n",
    "            labels.append([(item[0], item[1], scope)])\n",
    "        txt_handle += txt_ner\n",
    "    \n",
    "    return txt_handle, labels\n",
    "        \n"
   ]
  },
  {
   "cell_type": "code",
   "execution_count": 46,
   "metadata": {},
   "outputs": [],
   "source": [
    "txt = '1、[@[@投资计划名称#Common_att*]：[@百年一武汉襄阳大厦不动产债权投资计划#Product*]#Relation_ide*]'"
   ]
  },
  {
   "cell_type": "code",
   "execution_count": 47,
   "metadata": {},
   "outputs": [
    {
     "data": {
      "text/plain": [
       "('1、投资计划名称：百年一武汉襄阳大厦不动产债权投资计划',\n",
       " [[('Common_att', '投资计划名称', [2, 8]),\n",
       "   ('Product', '百年一武汉襄阳大厦不动产债权投资计划', [9, 27])]])"
      ]
     },
     "execution_count": 47,
     "metadata": {},
     "output_type": "execute_result"
    }
   ],
   "source": [
    "handle(txt)"
   ]
  },
  {
   "cell_type": "code",
   "execution_count": 48,
   "metadata": {},
   "outputs": [
    {
     "ename": "FileNotFoundError",
     "evalue": "[Errno 2] No such file or directory: '../resources/dataset/hr/61_6.1 百年-武汉襄阳大厦不动产债权投资计划-募集说明书.pdf.txt.ann'",
     "output_type": "error",
     "traceback": [
      "\u001b[1;31m---------------------------------------------------------------------------\u001b[0m",
      "\u001b[1;31mFileNotFoundError\u001b[0m                         Traceback (most recent call last)",
      "\u001b[1;32m<ipython-input-48-263fca115fb9>\u001b[0m in \u001b[0;36m<module>\u001b[1;34m\u001b[0m\n\u001b[0;32m      1\u001b[0m \u001b[0mp\u001b[0m \u001b[1;33m=\u001b[0m \u001b[1;34m'../resources/dataset/hr/61_6.1 百年-武汉襄阳大厦不动产债权投资计划-募集说明书.pdf.txt.ann'\u001b[0m\u001b[1;33m\u001b[0m\u001b[0m\n\u001b[1;32m----> 2\u001b[1;33m \u001b[0mdatas\u001b[0m \u001b[1;33m=\u001b[0m \u001b[0mread_file\u001b[0m\u001b[1;33m(\u001b[0m\u001b[0mp\u001b[0m\u001b[1;33m,\u001b[0m \u001b[1;34m'\\n'\u001b[0m\u001b[1;33m)\u001b[0m\u001b[1;33m\u001b[0m\u001b[0m\n\u001b[0m\u001b[0;32m      3\u001b[0m \u001b[0mlen\u001b[0m\u001b[1;33m(\u001b[0m\u001b[0mdatas\u001b[0m\u001b[1;33m)\u001b[0m\u001b[1;33m\u001b[0m\u001b[0m\n",
      "\u001b[1;32m~\\.conda\\envs\\py36\\lib\\site-packages\\my_py_toolkit\\file\\file_toolkit.py\u001b[0m in \u001b[0;36mread_file\u001b[1;34m(path, spl_char, ops, encoding)\u001b[0m\n\u001b[0;32m     72\u001b[0m     \"\"\"\n\u001b[0;32m     73\u001b[0m     \u001b[1;31m# TODO 后期把编码改 utf-8 试试\u001b[0m\u001b[1;33m\u001b[0m\u001b[1;33m\u001b[0m\u001b[0m\n\u001b[1;32m---> 74\u001b[1;33m     \u001b[1;32mwith\u001b[0m \u001b[0mopen\u001b[0m\u001b[1;33m(\u001b[0m\u001b[0mpath\u001b[0m\u001b[1;33m,\u001b[0m \u001b[1;34m'r'\u001b[0m\u001b[1;33m,\u001b[0m \u001b[0mencoding\u001b[0m\u001b[1;33m=\u001b[0m\u001b[0mencoding\u001b[0m\u001b[1;33m)\u001b[0m \u001b[1;32mas\u001b[0m \u001b[0mf\u001b[0m\u001b[1;33m:\u001b[0m\u001b[1;33m\u001b[0m\u001b[0m\n\u001b[0m\u001b[0;32m     75\u001b[0m         \u001b[0mdata\u001b[0m \u001b[1;33m=\u001b[0m \u001b[0mf\u001b[0m\u001b[1;33m.\u001b[0m\u001b[0mread\u001b[0m\u001b[1;33m(\u001b[0m\u001b[1;33m)\u001b[0m\u001b[1;33m\u001b[0m\u001b[0m\n\u001b[0;32m     76\u001b[0m         \u001b[1;32mif\u001b[0m \u001b[0mspl_char\u001b[0m \u001b[1;32mis\u001b[0m \u001b[1;32mnot\u001b[0m \u001b[1;32mNone\u001b[0m\u001b[1;33m:\u001b[0m\u001b[1;33m\u001b[0m\u001b[0m\n",
      "\u001b[1;31mFileNotFoundError\u001b[0m: [Errno 2] No such file or directory: '../resources/dataset/hr/61_6.1 百年-武汉襄阳大厦不动产债权投资计划-募集说明书.pdf.txt.ann'"
     ]
    }
   ],
   "source": [
    "p = '../resources/dataset/hr/61_6.1 百年-武汉襄阳大厦不动产债权投资计划-募集说明书.pdf.txt.ann'\n",
    "datas = read_file(p, '\\n')\n",
    "len(datas)"
   ]
  },
  {
   "cell_type": "code",
   "execution_count": null,
   "metadata": {},
   "outputs": [],
   "source": []
  },
  {
   "cell_type": "code",
   "execution_count": 50,
   "metadata": {},
   "outputs": [
    {
     "data": {
      "text/plain": [
       "351"
      ]
     },
     "execution_count": 50,
     "metadata": {},
     "output_type": "execute_result"
    }
   ],
   "source": [
    "# 处理所有数据\n",
    "paths = get_file_paths('../resources/dataset/hr/', ['ann'])\n",
    "len(paths)"
   ]
  },
  {
   "cell_type": "code",
   "execution_count": 51,
   "metadata": {},
   "outputs": [
    {
     "data": {
      "text/plain": [
       "220786"
      ]
     },
     "execution_count": 51,
     "metadata": {},
     "output_type": "execute_result"
    }
   ],
   "source": [
    "datas = []\n",
    "for p in paths:\n",
    "    datas.extend(read_file(p, '\\n'))\n",
    "len(datas)"
   ]
  },
  {
   "cell_type": "code",
   "execution_count": 64,
   "metadata": {},
   "outputs": [
    {
     "data": {
      "text/plain": [
       "85714"
      ]
     },
     "execution_count": 64,
     "metadata": {},
     "output_type": "execute_result"
    }
   ],
   "source": [
    "datas_handled = []\n",
    "\n",
    "for line in datas:\n",
    "    txt, labels = handle(line)\n",
    "    if labels:\n",
    "        datas_handled.append((txt, labels))\n",
    "len(datas_handled)"
   ]
  },
  {
   "cell_type": "code",
   "execution_count": 65,
   "metadata": {},
   "outputs": [],
   "source": [
    "writejson(datas_handled, '../cache/hr_data.json')"
   ]
  },
  {
   "cell_type": "code",
   "execution_count": 60,
   "metadata": {},
   "outputs": [
    {
     "data": {
      "text/plain": [
       "[('合众资产合众-山东水发大厦不动产债权投资计划募集说明书',\n",
       "  [[('document', '合众资产合众-山东水发大厦不动产债权投资计划募集说明书', [0, 27])]]),\n",
       " ('为保护委托人及受益人的合法权益，明确投资计划当事人的权利和义务，规范投资计划运作，受托人将在募集范围内公布本募集说明书，并与委托人分别签署《合众-山东水发大厦不动产债权投资计划受托合同》（以下简称《受托合同》）。本募集说明书与《受托合同》内容不一致之处，以《受托合同》为准。',\n",
       "  [[('document', '《合众-山东水发大厦不动产债权投资计划受托合同》', [69, 93])],\n",
       "   [('document', '《受托合同》', [98, 104])],\n",
       "   [('document', '《受托合同》', [113, 119])],\n",
       "   [('document', '《受托合同》', [128, 134])]]),\n",
       " ('本募集说明书在向中国保监会、委托人及受益人说明投资计划的募集资金用途、交易结构、信用增级方式、各方当事人基本情况、募集方式、受益凭证要素与转让安排、投资计划收益及分配、风险揭示与说明及管理对策、信息披露等具体内容。',\n",
       "  [[('Organization', '中国保监会', [8, 13])]])]"
      ]
     },
     "execution_count": 60,
     "metadata": {},
     "output_type": "execute_result"
    }
   ],
   "source": [
    "datas_handled[:3]"
   ]
  },
  {
   "cell_type": "code",
   "execution_count": 62,
   "metadata": {},
   "outputs": [
    {
     "name": "stdout",
     "output_type": "stream",
     "text": [
      "公司其他应收款大部分为与[$广西高速公路还贷运营管理中心#Organization*]的往来款，[@2018年末占比为43.89%#Number*]。[$2016年末#Date*]、[$2017年末#Date*]、[$2018年末#Date*]和[$2019年6月末#Date*]，公司的其他应收款分别为[@77.36亿元#Number_alpha*]、[@66.53亿元#Number_alpha*]、[@187.47亿元#Number_alpha*]和[@205.86亿元#Number_alpha*]。[$2017年末#Date*]较[$2016年末#Date*]减少[@10.83亿元#Number_alpha*]，降幅为[@14.00%#Number_alpha*，主要原因：一是合并范围变化，减少了金丹公司一家子公司，其他应收款减少；二是收回往来款增加；三是计提了应收账款减值准备其他应收款账准备有所增加。2018年末其他应收款较年初增长[@181.78%#Number_alpha*]，主要原因为公司与[$广西铁路投资集团有限公司#Organization*]实施战略重组，财务数据合并所致。\n"
     ]
    }
   ],
   "source": [
    "key = '主要原因：一是合并范围变化，减少了金丹公司一家子公司，其他应收款减少；二是收回往'\n",
    "for l in datas:\n",
    "    if key in l:\n",
    "        print(l)"
   ]
  },
  {
   "cell_type": "code",
   "execution_count": 63,
   "metadata": {},
   "outputs": [
    {
     "data": {
      "text/plain": [
       "('公司其他应收款大部分为与广西高速公路还贷运营管理中心的往来款，2018年末占比为43.89%。2016年末、2017年末、2018年末和2019年6月末，公司的其他应收款分别为77.36亿元、66.53亿元、187.47亿元和205.86亿元。2017年末较2016年末减少10.83亿元，降幅为14.00%，主要原因为公司与广西铁路投资集团有限公司实施战略重组，财务数据合并所致。',\n",
       " [[('Organization', '广西高速公路还贷运营管理中心', [12, 26])],\n",
       "  [('Number', '2018年末占比为43.89%', [31, 46])],\n",
       "  [('Date', '2016年末', [47, 53])],\n",
       "  [('Date', '2017年末', [54, 60])],\n",
       "  [('Date', '2018年末', [61, 67])],\n",
       "  [('Date', '2019年6月末', [68, 76])],\n",
       "  [('Number_alpha', '77.36亿元', [88, 95])],\n",
       "  [('Number_alpha', '66.53亿元', [96, 103])],\n",
       "  [('Number_alpha', '187.47亿元', [104, 112])],\n",
       "  [('Number_alpha', '205.86亿元', [113, 121])],\n",
       "  [('Date', '2017年末', [122, 128])],\n",
       "  [('Date', '2016年末', [129, 135])],\n",
       "  [('Number_alpha', '10.83亿元', [137, 144])],\n",
       "  [('Number_alpha*，主要原因：一是合并范围变化，减少了金丹公司一家子公司，其他应收款减少；二是收回往来款增加；三是计提了应收账款减值准备其他应收款账准备有所增加。2018年末其他应收款较年初增长[@181.78%#Number_alpha',\n",
       "    '14.00%',\n",
       "    [148, 154])],\n",
       "  [('Organization', '广西铁路投资集团有限公司', [163, 175])]])"
      ]
     },
     "execution_count": 63,
     "metadata": {},
     "output_type": "execute_result"
    }
   ],
   "source": [
    "txt = '公司其他应收款大部分为与[$广西高速公路还贷运营管理中心#Organization*]的往来款，[@2018年末占比为43.89%#Number*]。[$2016年末#Date*]、[$2017年末#Date*]、[$2018年末#Date*]和[$2019年6月末#Date*]，公司的其他应收款分别为[@77.36亿元#Number_alpha*]、[@66.53亿元#Number_alpha*]、[@187.47亿元#Number_alpha*]和[@205.86亿元#Number_alpha*]。[$2017年末#Date*]较[$2016年末#Date*]减少[@10.83亿元#Number_alpha*]，降幅为[@14.00%#Number_alpha*，主要原因：一是合并范围变化，减少了金丹公司一家子公司，其他应收款减少；二是收回往来款增加；三是计提了应收账款减值准备其他应收款账准备有所增加。2018年末其他应收款较年初增长[@181.78%#Number_alpha*]，主要原因为公司与[$广西铁路投资集团有限公司#Organization*]实施战略重组，财务数据合并所致。'\n",
    "txt, labels = handle(txt)\n",
    "txt, labels"
   ]
  },
  {
   "cell_type": "code",
   "execution_count": 67,
   "metadata": {},
   "outputs": [
    {
     "data": {
      "text/plain": [
       "{'#Number_alpha',\n",
       " 'Comm[@on_att',\n",
       " 'Common_att',\n",
       " 'Common_att*[@]0.77亿元#Number_alpha',\n",
       " 'Common_att*[@]1,680.45亿元#Number_alpha',\n",
       " 'Common_att*[@]2140万元#Number_alpha',\n",
       " 'Common_att*[@]9.79亿元#Number_alpha',\n",
       " 'Common_att*[@]昆明保利房地产开发有限公司#Organization',\n",
       " 'Dae',\n",
       " 'Date',\n",
       " 'Date* ]至今任[@山西焦煤集团有限责任公司#Organization',\n",
       " 'Date*，[@[@总资产#Common_att',\n",
       " 'Dat增加[@53.53亿元#Number',\n",
       " 'Level',\n",
       " 'Location',\n",
       " 'Nmber_alpha',\n",
       " 'Numbe_alpha',\n",
       " 'Number',\n",
       " 'Number*#Relation_ide',\n",
       " 'Number_alha',\n",
       " 'Number_alpha',\n",
       " 'Number_alpha*#Relation_ide',\n",
       " 'Number_alpha*[@1年#Period',\n",
       " 'Number_alpha*[@]政府性债务#Common_att',\n",
       " 'Number_alpha*，[@[@加权平均贷款利率#Common_att',\n",
       " 'Number_alpha*，主要原因：一是合并范围变化，减少了金丹公司一家子公司，其他应收款减少；二是收回往来款增加；三是计提了应收账款减值准备其他应收款账准备有所增加。2018年末其他应收款较年初增长[@181.78%#Number_alpha',\n",
       " 'Number_att',\n",
       " 'Orgaization',\n",
       " 'Organization',\n",
       " 'Organization* 指定机构出具投资计划注册文件之日起[@【三】个月内#Period',\n",
       " 'Organization*[@]2017年#Date',\n",
       " 'Organization*[[@2015年#Date',\n",
       " 'Organization*（以下简称“[@中国平安集团#Organization',\n",
       " 'Organization_att',\n",
       " 'Perid',\n",
       " 'Period',\n",
       " 'Person',\n",
       " 'Person_att',\n",
       " 'Product',\n",
       " 'Relation_ide',\n",
       " '[@Date',\n",
       " 'dcument',\n",
       " 'document',\n",
       " 'ommon_att',\n",
       " '、5#、6#、7#号#Product',\n",
       " '地决项目#Product',\n",
       " '地央项目#Product',\n",
       " '地峡项目#Product',\n",
       " '地快项目#Product',\n",
       " '地项目#Product',\n",
       " '城乡投资建设集团有限责任公司#Organization',\n",
       " '楼#Product',\n",
       " '楼租金#Common_att'}"
      ]
     },
     "execution_count": 67,
     "metadata": {},
     "output_type": "execute_result"
    }
   ],
   "source": [
    "all_ner = []\n",
    "for d in datas_handled:\n",
    "    for labels in d[1]:\n",
    "        all_ner.extend([v[0] for v in labels])\n",
    "all_ner = set(all_ner)\n",
    "all_ner"
   ]
  },
  {
   "cell_type": "code",
   "execution_count": 1,
   "metadata": {},
   "outputs": [
    {
     "data": {
      "text/plain": [
       "(14, 14)"
      ]
     },
     "execution_count": 1,
     "metadata": {},
     "output_type": "execute_result"
    }
   ],
   "source": [
    "labels = ['Number_alpha', 'Common_att', 'Date', 'Level', 'Location', 'Number', 'Period', 'Organization', 'Product', 'Number_att', 'Organization_att', 'Person', 'Person_att', 'dcument', ]\n",
    "len(labels), len(set(labels))"
   ]
  },
  {
   "cell_type": "code",
   "execution_count": 37,
   "metadata": {},
   "outputs": [
    {
     "data": {
      "text/plain": [
       "(266790,\n",
       " Counter({1: 132794,\n",
       "          2: 13159,\n",
       "          6: 1166,\n",
       "          4: 2065,\n",
       "          8: 748,\n",
       "          7: 762,\n",
       "          5: 1025,\n",
       "          11: 526,\n",
       "          9: 542,\n",
       "          12: 454,\n",
       "          3: 1007,\n",
       "          10: 569,\n",
       "          0: 779,\n",
       "          15: 274,\n",
       "          14: 291,\n",
       "          13: 387,\n",
       "          22: 96,\n",
       "          18: 174,\n",
       "          20: 102,\n",
       "          16: 251,\n",
       "          23: 75,\n",
       "          32: 30,\n",
       "          52: 1,\n",
       "          19: 120,\n",
       "          37: 16,\n",
       "          26: 40,\n",
       "          17: 189,\n",
       "          21: 89,\n",
       "          25: 61,\n",
       "          27: 51,\n",
       "          30: 39,\n",
       "          35: 13,\n",
       "          24: 67,\n",
       "          38: 13,\n",
       "          44: 6,\n",
       "          28: 33,\n",
       "          36: 17,\n",
       "          63: 2,\n",
       "          42: 8,\n",
       "          41: 8,\n",
       "          60: 2,\n",
       "          48: 3,\n",
       "          31: 27,\n",
       "          29: 27,\n",
       "          40: 10,\n",
       "          39: 14,\n",
       "          34: 18,\n",
       "          70: 1,\n",
       "          33: 16,\n",
       "          43: 4,\n",
       "          50: 3,\n",
       "          82: 1,\n",
       "          46: 4,\n",
       "          73: 1,\n",
       "          54: 4,\n",
       "          56: 1,\n",
       "          53: 7,\n",
       "          45: 3,\n",
       "          55: 2,\n",
       "          51: 2}))"
      ]
     },
     "execution_count": 37,
     "metadata": {},
     "output_type": "execute_result"
    }
   ],
   "source": [
    "# 统计实体数量，每种关系内实体的数量统计\n",
    "ner_count = 0\n",
    "ner_count_per_rel = []\n",
    "for d in datas_handled:\n",
    "    ner_count += sum([len(v) for v in d[1]])\n",
    "    ner_count_per_rel.extend([len(v) for v in d[1]])\n",
    "\n",
    "ner_count, Counter(ner_count_per_rel)"
   ]
  },
  {
   "cell_type": "code",
   "execution_count": 26,
   "metadata": {},
   "outputs": [
    {
     "data": {
      "text/plain": [
       "[('百年一武汉襄阳大厦不动产债权投资计划募集说明书',\n",
       "  [[('document', '百年一武汉襄阳大厦不动产债权投资计划募集说明书', [0, 23])]]),\n",
       " ('百年一武汉襄阳大厦不动产债权投资计划募集说明书',\n",
       "  [[('document', '百年一武汉襄阳大厦不动产债权投资计划募集说明书', [0, 23])]])]"
      ]
     },
     "execution_count": 26,
     "metadata": {},
     "output_type": "execute_result"
    }
   ],
   "source": [
    "datas_handle[:2]"
   ]
  },
  {
   "cell_type": "code",
   "execution_count": 18,
   "metadata": {},
   "outputs": [
    {
     "name": "stdout",
     "output_type": "stream",
     "text": [
      "rel: [@投资计划名称#Common_att*]：[@百年一武汉襄阳大厦不动产债权投资计划#Product*]\n"
     ]
    },
    {
     "data": {
      "text/plain": [
       "('1、投资计划名称：百年一武汉襄阳大厦不动产债权投资计划[@投资计划名称：百年一武汉襄阳大厦不动产债权投资计划#Relation_ide*]',\n",
       " [[('Common_att', '投资计划名称', [2, 8]),\n",
       "   ('Product', '百年一武汉襄阳大厦不动产债权投资计划', [9, 27])],\n",
       "  [('Common_att', '[@投资计划名称', [27, 35])],\n",
       "  [('Product', '百年一武汉襄阳大厦不动产债权投资计划', [36, 54])]])"
      ]
     },
     "execution_count": 18,
     "metadata": {},
     "output_type": "execute_result"
    }
   ],
   "source": [
    "res = handle(txt)\n",
    "res"
   ]
  },
  {
   "cell_type": "code",
   "execution_count": 19,
   "metadata": {},
   "outputs": [
    {
     "data": {
      "text/plain": [
       "3"
      ]
     },
     "execution_count": 19,
     "metadata": {},
     "output_type": "execute_result"
    }
   ],
   "source": [
    "len(res[1])"
   ]
  },
  {
   "cell_type": "code",
   "execution_count": 20,
   "metadata": {},
   "outputs": [
    {
     "data": {
      "text/plain": [
       "[[('Common_att', '投资计划名称', [2, 8]),\n",
       "  ('Product', '百年一武汉襄阳大厦不动产债权投资计划', [9, 27])],\n",
       " [('Common_att', '[@投资计划名称', [27, 35])],\n",
       " [('Product', '百年一武汉襄阳大厦不动产债权投资计划', [36, 54])]]"
      ]
     },
     "execution_count": 20,
     "metadata": {},
     "output_type": "execute_result"
    }
   ],
   "source": [
    "res[1]"
   ]
  },
  {
   "cell_type": "code",
   "execution_count": 8,
   "metadata": {},
   "outputs": [
    {
     "data": {
      "text/plain": [
       "<_sre.SRE_Match object; span=(2, 71), match='[@[@投资计划名称#Common_att*]：[@百年一武汉襄阳大厦不动产债权投资计划#Prod>"
      ]
     },
     "execution_count": 8,
     "metadata": {},
     "output_type": "execute_result"
    }
   ],
   "source": [
    "reg_rel = '\\[@(?P<rel>.+)\\#Relation_ide\\*\\]'\n",
    "re.search(reg_rel, txt)"
   ]
  },
  {
   "cell_type": "code",
   "execution_count": 9,
   "metadata": {},
   "outputs": [
    {
     "name": "stdout",
     "output_type": "stream",
     "text": [
      "[@[@投资计划名称#Common_att*]：[@百年一武汉襄阳大厦不动产债权投资计划#Product*]#Relation_ide*]\n"
     ]
    }
   ],
   "source": [
    "for match in re.finditer(reg_rel, txt):\n",
    "    print(match.group())"
   ]
  },
  {
   "cell_type": "code",
   "execution_count": 10,
   "metadata": {},
   "outputs": [
    {
     "data": {
      "text/plain": [
       "'[@投资计划名称#Common_att*]：[@百年一武汉襄阳大厦不动产债权投资计划#Product*]'"
      ]
     },
     "execution_count": 10,
     "metadata": {},
     "output_type": "execute_result"
    }
   ],
   "source": [
    "match['rel']"
   ]
  },
  {
   "cell_type": "code",
   "execution_count": null,
   "metadata": {},
   "outputs": [],
   "source": []
  }
 ],
 "metadata": {
  "interpreter": {
   "hash": "faa2cebac5e54c1c5a3ddcea6554970e126cae7a360ad380d860dd6092c14442"
  },
  "kernelspec": {
   "display_name": "Python 3.6.5 ('py36')",
   "language": "python",
   "name": "python3"
  },
  "language_info": {
   "codemirror_mode": {
    "name": "ipython",
    "version": 3
   },
   "file_extension": ".py",
   "mimetype": "text/x-python",
   "name": "python",
   "nbconvert_exporter": "python",
   "pygments_lexer": "ipython3",
   "version": "3.9.7"
  },
  "orig_nbformat": 4
 },
 "nbformat": 4,
 "nbformat_minor": 2
}
