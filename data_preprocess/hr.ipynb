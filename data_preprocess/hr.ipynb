{
 "cells": [
  {
   "cell_type": "markdown",
   "metadata": {},
   "source": [
    "# hr 数据预处理\n"
   ]
  },
  {
   "cell_type": "code",
   "execution_count": 27,
   "metadata": {},
   "outputs": [],
   "source": [
    "import re\n",
    "from my_py_toolkit.file.file_toolkit import read_file, readjson, writejson, get_file_paths"
   ]
  },
  {
   "cell_type": "code",
   "execution_count": 20,
   "metadata": {},
   "outputs": [],
   "source": [
    "txt = '1、[@[@投资计划名称#Common_att*]：[@百年一武汉襄阳大厦不动产债权投资计划#Product*]#Relation_ide*]'\n",
    "reg_rel = '\\[@(?P<rel>.+)\\#Relation_ide\\*\\]'"
   ]
  },
  {
   "cell_type": "code",
   "execution_count": 22,
   "metadata": {},
   "outputs": [
    {
     "data": {
      "text/plain": [
       "({'rel': '[@投资计划名称#Common_att*]：[@百年一武汉襄阳大厦不动产债权投资计划#Product*]'},\n",
       " '[@[@投资计划名称#Common_att*]：[@百年一武汉襄阳大厦不动产债权投资计划#Product*]#Relation_ide*]')"
      ]
     },
     "execution_count": 22,
     "metadata": {},
     "output_type": "execute_result"
    }
   ],
   "source": [
    "match = re.search(reg_rel, txt)\n",
    "match.groupdict(), match.group()"
   ]
  },
  {
   "cell_type": "code",
   "execution_count": 12,
   "metadata": {},
   "outputs": [
    {
     "name": "stdout",
     "output_type": "stream",
     "text": [
      "{'ner_content': '投资计划名称', 'ner_name': 'Common_att'}\n",
      "{'ner_content': '百年一武汉襄阳大厦不动产债权投资计划', 'ner_name': 'Product'}\n"
     ]
    }
   ],
   "source": [
    "txt = '[@投资计划名称#Common_att*]：[@百年一武汉襄阳大厦不动产债权投资计划#Product*]222'\n",
    "reg_ner = '\\[@(?P<ner_content>.*?)\\#(?P<ner_name>.*?)\\*\\]'\n",
    "for match in re.finditer(reg_ner, txt):\n",
    "    print(match.groupdict())"
   ]
  },
  {
   "cell_type": "code",
   "execution_count": 6,
   "metadata": {},
   "outputs": [],
   "source": [
    "def handle_ner(txt):\n",
    "    reg_ner = '\\[@(?P<ner_content>.*?)\\#(?P<ner_name>.*?)\\*\\]'\n",
    "    pre_end = 0\n",
    "    txt_handle = ''\n",
    "    labels = []\n",
    "    for match in re.finditer(reg_ner, txt):\n",
    "        s, e = match.span()\n",
    "        txt_handle += txt[pre_end:s]\n",
    "        pre_end = e\n",
    "        ner_name = match['ner_name']\n",
    "        ner_content = match['ner_content']\n",
    "        labels.append((ner_name, ner_content, (len(txt_handle), len(txt_handle) + len(ner_content))))\n",
    "        txt_handle += ner_content\n",
    "    txt_handle += txt[pre_end:]\n",
    "    return txt_handle, labels\n",
    "\n"
   ]
  },
  {
   "cell_type": "code",
   "execution_count": 13,
   "metadata": {},
   "outputs": [
    {
     "data": {
      "text/plain": [
       "('投资计划名称：百年一武汉襄阳大厦不动产债权投资计划222',\n",
       " [('Common_att', '投资计划名称', (0, 6)),\n",
       "  ('Product', '百年一武汉襄阳大厦不动产债权投资计划', (7, 25))])"
      ]
     },
     "execution_count": 13,
     "metadata": {},
     "output_type": "execute_result"
    }
   ],
   "source": [
    "handle_ner(txt)"
   ]
  },
  {
   "cell_type": "code",
   "execution_count": 27,
   "metadata": {},
   "outputs": [
    {
     "data": {
      "text/plain": [
       "((22, 52), 'Product', 'Product')"
      ]
     },
     "execution_count": 27,
     "metadata": {},
     "output_type": "execute_result"
    }
   ],
   "source": [
    "match.span(), match['ner_name'], match.group('ner_name')"
   ]
  },
  {
   "cell_type": "code",
   "execution_count": 21,
   "metadata": {},
   "outputs": [],
   "source": [
    "def handle(txt):\n",
    "    reg_rel = '\\[@(?P<rel>.+)\\#Relation_ide\\*\\]'\n",
    "    pre_end = 0\n",
    "    txt_handle = ''\n",
    "    labels = []\n",
    "    for match in re.finditer(reg_rel, txt):\n",
    "        s, e = match.span()\n",
    "        txt_rel = match['rel']\n",
    "        # print(f'rel: {txt_rel}')\n",
    "        txt_handle += txt[pre_end:s]\n",
    "        pre_end = e\n",
    "        txt_ner, label_sub = handle_ner(txt_rel)\n",
    "        for i, item in enumerate(label_sub):\n",
    "            label_sub[i] = (item[0], item[1], [v + len(txt_handle) for v in item[2]])\n",
    "           \n",
    "        labels.append(label_sub)\n",
    "        txt_handle += txt_ner\n",
    "    \n",
    "    if pre_end < len(txt):\n",
    "        txt_ner, label_sub = handle_ner(txt[pre_end:])\n",
    "        for item in label_sub:\n",
    "            scope = [v + len(txt_handle) for v in item[2]]\n",
    "            labels.append([(item[0], item[1], scope)])\n",
    "        txt_handle += txt_ner\n",
    "    \n",
    "    return txt_handle, labels\n",
    "        \n"
   ]
  },
  {
   "cell_type": "code",
   "execution_count": 16,
   "metadata": {},
   "outputs": [],
   "source": [
    "txt = '1、[@[@投资计划名称#Common_att*]：[@百年一武汉襄阳大厦不动产债权投资计划#Product*]#Relation_ide*]'"
   ]
  },
  {
   "cell_type": "code",
   "execution_count": 22,
   "metadata": {},
   "outputs": [
    {
     "data": {
      "text/plain": [
       "('1、投资计划名称：百年一武汉襄阳大厦不动产债权投资计划',\n",
       " [[('Common_att', '投资计划名称', [2, 8]),\n",
       "   ('Product', '百年一武汉襄阳大厦不动产债权投资计划', [9, 27])]])"
      ]
     },
     "execution_count": 22,
     "metadata": {},
     "output_type": "execute_result"
    }
   ],
   "source": [
    "handle(txt)"
   ]
  },
  {
   "cell_type": "code",
   "execution_count": 24,
   "metadata": {},
   "outputs": [
    {
     "data": {
      "text/plain": [
       "1267"
      ]
     },
     "execution_count": 24,
     "metadata": {},
     "output_type": "execute_result"
    }
   ],
   "source": [
    "p = '../resources/dataset/hr/61_6.1 百年-武汉襄阳大厦不动产债权投资计划-募集说明书.pdf.txt.ann'\n",
    "datas = read_file(p, '\\n')\n",
    "len(datas)"
   ]
  },
  {
   "cell_type": "code",
   "execution_count": 25,
   "metadata": {},
   "outputs": [
    {
     "data": {
      "text/plain": [
       "433"
      ]
     },
     "execution_count": 25,
     "metadata": {},
     "output_type": "execute_result"
    }
   ],
   "source": [
    "datas_handle = []\n",
    "for line in datas:\n",
    "    txt, labels = handle(line)\n",
    "    if labels:\n",
    "        datas_handle.append((txt, labels))\n",
    "len(datas_handle)"
   ]
  },
  {
   "cell_type": "code",
   "execution_count": 30,
   "metadata": {},
   "outputs": [
    {
     "data": {
      "text/plain": [
       "351"
      ]
     },
     "execution_count": 30,
     "metadata": {},
     "output_type": "execute_result"
    }
   ],
   "source": [
    "paths = get_file_paths('../resources/dataset/hr/', ['ann'])\n",
    "len(paths)"
   ]
  },
  {
   "cell_type": "code",
   "execution_count": 26,
   "metadata": {},
   "outputs": [
    {
     "data": {
      "text/plain": [
       "[('百年一武汉襄阳大厦不动产债权投资计划募集说明书',\n",
       "  [[('document', '百年一武汉襄阳大厦不动产债权投资计划募集说明书', [0, 23])]]),\n",
       " ('百年一武汉襄阳大厦不动产债权投资计划募集说明书',\n",
       "  [[('document', '百年一武汉襄阳大厦不动产债权投资计划募集说明书', [0, 23])]])]"
      ]
     },
     "execution_count": 26,
     "metadata": {},
     "output_type": "execute_result"
    }
   ],
   "source": [
    "datas_handle[:2]"
   ]
  },
  {
   "cell_type": "code",
   "execution_count": 18,
   "metadata": {},
   "outputs": [
    {
     "name": "stdout",
     "output_type": "stream",
     "text": [
      "rel: [@投资计划名称#Common_att*]：[@百年一武汉襄阳大厦不动产债权投资计划#Product*]\n"
     ]
    },
    {
     "data": {
      "text/plain": [
       "('1、投资计划名称：百年一武汉襄阳大厦不动产债权投资计划[@投资计划名称：百年一武汉襄阳大厦不动产债权投资计划#Relation_ide*]',\n",
       " [[('Common_att', '投资计划名称', [2, 8]),\n",
       "   ('Product', '百年一武汉襄阳大厦不动产债权投资计划', [9, 27])],\n",
       "  [('Common_att', '[@投资计划名称', [27, 35])],\n",
       "  [('Product', '百年一武汉襄阳大厦不动产债权投资计划', [36, 54])]])"
      ]
     },
     "execution_count": 18,
     "metadata": {},
     "output_type": "execute_result"
    }
   ],
   "source": [
    "res = handle(txt)\n",
    "res"
   ]
  },
  {
   "cell_type": "code",
   "execution_count": 19,
   "metadata": {},
   "outputs": [
    {
     "data": {
      "text/plain": [
       "3"
      ]
     },
     "execution_count": 19,
     "metadata": {},
     "output_type": "execute_result"
    }
   ],
   "source": [
    "len(res[1])"
   ]
  },
  {
   "cell_type": "code",
   "execution_count": 20,
   "metadata": {},
   "outputs": [
    {
     "data": {
      "text/plain": [
       "[[('Common_att', '投资计划名称', [2, 8]),\n",
       "  ('Product', '百年一武汉襄阳大厦不动产债权投资计划', [9, 27])],\n",
       " [('Common_att', '[@投资计划名称', [27, 35])],\n",
       " [('Product', '百年一武汉襄阳大厦不动产债权投资计划', [36, 54])]]"
      ]
     },
     "execution_count": 20,
     "metadata": {},
     "output_type": "execute_result"
    }
   ],
   "source": [
    "res[1]"
   ]
  },
  {
   "cell_type": "code",
   "execution_count": 8,
   "metadata": {},
   "outputs": [
    {
     "data": {
      "text/plain": [
       "<_sre.SRE_Match object; span=(2, 71), match='[@[@投资计划名称#Common_att*]：[@百年一武汉襄阳大厦不动产债权投资计划#Prod>"
      ]
     },
     "execution_count": 8,
     "metadata": {},
     "output_type": "execute_result"
    }
   ],
   "source": [
    "reg_rel = '\\[@(?P<rel>.+)\\#Relation_ide\\*\\]'\n",
    "re.search(reg_rel, txt)"
   ]
  },
  {
   "cell_type": "code",
   "execution_count": 9,
   "metadata": {},
   "outputs": [
    {
     "name": "stdout",
     "output_type": "stream",
     "text": [
      "[@[@投资计划名称#Common_att*]：[@百年一武汉襄阳大厦不动产债权投资计划#Product*]#Relation_ide*]\n"
     ]
    }
   ],
   "source": [
    "for match in re.finditer(reg_rel, txt):\n",
    "    print(match.group())"
   ]
  },
  {
   "cell_type": "code",
   "execution_count": 10,
   "metadata": {},
   "outputs": [
    {
     "data": {
      "text/plain": [
       "'[@投资计划名称#Common_att*]：[@百年一武汉襄阳大厦不动产债权投资计划#Product*]'"
      ]
     },
     "execution_count": 10,
     "metadata": {},
     "output_type": "execute_result"
    }
   ],
   "source": [
    "match['rel']"
   ]
  },
  {
   "cell_type": "code",
   "execution_count": null,
   "metadata": {},
   "outputs": [],
   "source": []
  }
 ],
 "metadata": {
  "interpreter": {
   "hash": "faa2cebac5e54c1c5a3ddcea6554970e126cae7a360ad380d860dd6092c14442"
  },
  "kernelspec": {
   "display_name": "Python 3.6.5 ('py36')",
   "language": "python",
   "name": "python3"
  },
  "language_info": {
   "codemirror_mode": {
    "name": "ipython",
    "version": 3
   },
   "file_extension": ".py",
   "mimetype": "text/x-python",
   "name": "python",
   "nbconvert_exporter": "python",
   "pygments_lexer": "ipython3",
   "version": "3.6.5"
  },
  "orig_nbformat": 4
 },
 "nbformat": 4,
 "nbformat_minor": 2
}
