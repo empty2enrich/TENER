{
 "cells": [
  {
   "cell_type": "markdown",
   "metadata": {},
   "source": [
    "# gp torch\n",
    "\n",
    "迁移的别人写的 duie 数据预处理代码\n"
   ]
  },
  {
   "cell_type": "code",
   "execution_count": 2,
   "metadata": {},
   "outputs": [
    {
     "ename": "ModuleNotFoundError",
     "evalue": "No module named 'my_py_toolkit'",
     "output_type": "error",
     "traceback": [
      "\u001b[1;31m---------------------------------------------------------------------------\u001b[0m",
      "\u001b[1;31mModuleNotFoundError\u001b[0m                       Traceback (most recent call last)",
      "\u001b[1;32m<ipython-input-2-67c93f6eccda>\u001b[0m in \u001b[0;36m<module>\u001b[1;34m\u001b[0m\n\u001b[0;32m      8\u001b[0m \u001b[1;31m# from transformers.tokenization_utils_base import BatchEncoding, PreTrainedTokenizerBase\u001b[0m\u001b[1;33m\u001b[0m\u001b[1;33m\u001b[0m\u001b[0m\n\u001b[0;32m      9\u001b[0m \u001b[1;32mfrom\u001b[0m \u001b[0mtransformers\u001b[0m\u001b[1;33m.\u001b[0m\u001b[0mtokenization_utils\u001b[0m \u001b[1;32mimport\u001b[0m \u001b[0mPreTrainedTokenizer\u001b[0m\u001b[1;33m\u001b[0m\u001b[0m\n\u001b[1;32m---> 10\u001b[1;33m \u001b[1;32mfrom\u001b[0m \u001b[0mmy_py_toolkit\u001b[0m\u001b[1;33m.\u001b[0m\u001b[0mtorch\u001b[0m\u001b[1;33m.\u001b[0m\u001b[0mtransformers_pkg\u001b[0m \u001b[1;32mimport\u001b[0m \u001b[0mbert_tokenize\u001b[0m\u001b[1;33m\u001b[0m\u001b[0m\n\u001b[0m\u001b[0;32m     11\u001b[0m \u001b[1;32mfrom\u001b[0m \u001b[0mdatasets\u001b[0m\u001b[1;33m.\u001b[0m\u001b[0marrow_dataset\u001b[0m \u001b[1;32mimport\u001b[0m \u001b[0mDataset\u001b[0m\u001b[1;33m\u001b[0m\u001b[0m\n",
      "\u001b[1;31mModuleNotFoundError\u001b[0m: No module named 'my_py_toolkit'"
     ]
    }
   ],
   "source": [
    "import torch\n",
    "\n",
    "from torch.utils.data import DataLoader\n",
    "from dataclasses import dataclass\n",
    "from typing import Dict, List, Optional, Union\n",
    "# from transformers.utils import PaddingStrategy\n",
    "# from transformers import PaddingStrategy\n",
    "# from transformers.tokenization_utils_base import BatchEncoding, PreTrainedTokenizerBase\n",
    "from transformers.tokenization_utils import PreTrainedTokenizer\n",
    "from my_py_toolkit.torch.transformers_pkg import bert_tokenize\n",
    "from datasets.arrow_dataset import Dataset"
   ]
  },
  {
   "cell_type": "code",
   "execution_count": 2,
   "metadata": {},
   "outputs": [],
   "source": [
    "\n",
    "@dataclass\n",
    "class DataCollatorForGPLinker:\n",
    "    tokenizer: PreTrainedTokenizer\n",
    "    padding: Union[bool, str] = True\n",
    "    max_length: Optional[int] = None\n",
    "    pad_to_multiple_of: Optional[int] = None\n",
    "    num_labels: Optional[int] = None\n",
    "\n",
    "    def __call__(\n",
    "        self, features: List[Dict[str, Union[List[int], torch.Tensor]]]\n",
    "    ) -> Dict[str, torch.Tensor]:\n",
    "        labels = (\n",
    "            [feature[\"labels\"] for feature in features]\n",
    "            if \"labels\" in features[0].keys()\n",
    "            else None\n",
    "        )\n",
    "        new_features = [\n",
    "            {k: v for k, v in f.items() if k not in [\"labels\"] + ignore_list}\n",
    "            for f in features\n",
    "        ]\n",
    "\n",
    "        batch = self.tokenizer.pad(\n",
    "            new_features,\n",
    "            padding=self.padding,\n",
    "            max_length=self.max_length,\n",
    "            pad_to_multiple_of=self.pad_to_multiple_of,\n",
    "            return_tensors=\"pt\",\n",
    "        )\n",
    "        if labels is None:  # for test\n",
    "            if \"text\" in features[0].keys():\n",
    "                batch[\"text\"] = [feature[\"text\"] for feature in features]\n",
    "            if \"offset_mapping\" in features[0].keys():\n",
    "                batch[\"offset_mapping\"] = [\n",
    "                    feature[\"offset_mapping\"] for feature in features\n",
    "                ]\n",
    "            return batch\n",
    "\n",
    "        bs = batch[\"input_ids\"].size(0)\n",
    "        max_spo_num = max([len(lb) for lb in labels])\n",
    "        batch_entity_labels = torch.zeros(bs, 2, max_spo_num, 2, dtype=torch.long)\n",
    "        batch_head_labels = torch.zeros(\n",
    "            bs, self.num_labels, max_spo_num, 2, dtype=torch.long\n",
    "        )\n",
    "        batch_tail_labels = torch.zeros(\n",
    "            bs, self.num_labels, max_spo_num, 2, dtype=torch.long\n",
    "        )\n",
    "        for i, lb in enumerate(labels):\n",
    "            for spidx, (sh, st, p, oh, ot) in enumerate(lb):\n",
    "                batch_entity_labels[i, 0, spidx, :] = torch.tensor([sh, st])\n",
    "                batch_entity_labels[i, 1, spidx, :] = torch.tensor([oh, ot])\n",
    "                batch_head_labels[i, p, spidx, :] = torch.tensor([sh, oh])\n",
    "                batch_tail_labels[i, p, spidx, :] = torch.tensor([st, ot])\n",
    "\n",
    "        batch[\"labels\"] = [batch_entity_labels, batch_head_labels, batch_tail_labels]\n",
    "        return batch"
   ]
  },
  {
   "cell_type": "code",
   "execution_count": 3,
   "metadata": {},
   "outputs": [],
   "source": [
    "p = 'F:/Study/Github/GPLinker_pytorch/data_caches/spo/spo/1.0.0/4f608ff3259ef2cd7e69d8dd58a3aa33a4f4e1fef81d944e417267137f59e237/cache-train-bert-128-resources_bert_model_bert.arrow'\n",
    "bert_cfg = '../resources/bert_model/bert'\n",
    "tokenizer = bert_tokenize(bert_cfg)\n",
    "ds = Dataset.from_file(p)\n",
    "data_collate = DataCollatorForGPLinker(tokenizer, num_labels=49)\n",
    "dl = DataLoader(ds, shuffle=True, collate_fn=data_collate, batch_size=5, num_workers=1)"
   ]
  },
  {
   "cell_type": "code",
   "execution_count": 4,
   "metadata": {},
   "outputs": [],
   "source": [
    "for v in dl:\n",
    "    print(v)\n",
    "    break"
   ]
  },
  {
   "cell_type": "code",
   "execution_count": null,
   "metadata": {},
   "outputs": [],
   "source": []
  },
  {
   "cell_type": "code",
   "execution_count": 3,
   "metadata": {},
   "outputs": [],
   "source": [
    "from transformers import AutoTokenizer"
   ]
  },
  {
   "cell_type": "code",
   "execution_count": 2,
   "metadata": {},
   "outputs": [
    {
     "name": "stderr",
     "output_type": "stream",
     "text": [
      "100%|██████████| 109540/109540 [00:00<00:00, 181415.45B/s]\n"
     ]
    }
   ],
   "source": [
    "tokenizer = AutoTokenizer.from_pretrained('bert-base-chinese')"
   ]
  },
  {
   "cell_type": "code",
   "execution_count": 4,
   "metadata": {},
   "outputs": [],
   "source": [
    "tokenizer = AutoTokenizer.from_pretrained('../resources/bert_model/bert')"
   ]
  },
  {
   "cell_type": "code",
   "execution_count": null,
   "metadata": {},
   "outputs": [],
   "source": [
    "tokenizer.pad()"
   ]
  },
  {
   "cell_type": "code",
   "execution_count": 1,
   "metadata": {},
   "outputs": [
    {
     "data": {
      "text/plain": [
       "True"
      ]
     },
     "execution_count": 1,
     "metadata": {},
     "output_type": "execute_result"
    }
   ],
   "source": [
    "False == False"
   ]
  },
  {
   "cell_type": "code",
   "execution_count": null,
   "metadata": {},
   "outputs": [],
   "source": []
  }
 ],
 "metadata": {
  "interpreter": {
   "hash": "60f1a0e5806fbf24163cbd226ff9c6bd3e2c859ea98df4476897d063a6636f01"
  },
  "kernelspec": {
   "display_name": "Python 3.9.7 ('nlp2')",
   "language": "python",
   "name": "python3"
  },
  "language_info": {
   "codemirror_mode": {
    "name": "ipython",
    "version": 3
   },
   "file_extension": ".py",
   "mimetype": "text/x-python",
   "name": "python",
   "nbconvert_exporter": "python",
   "pygments_lexer": "ipython3",
   "version": "3.6.5"
  },
  "orig_nbformat": 4
 },
 "nbformat": 4,
 "nbformat_minor": 2
}
