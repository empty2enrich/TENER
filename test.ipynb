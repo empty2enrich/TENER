{
 "cells": [
  {
   "cell_type": "code",
   "execution_count": 8,
   "metadata": {},
   "outputs": [],
   "source": [
    "from torch.utils.tensorboard import SummaryWriter\n",
    "import random\n",
    "import torch"
   ]
  },
  {
   "cell_type": "code",
   "execution_count": 4,
   "metadata": {},
   "outputs": [
    {
     "name": "stderr",
     "output_type": "stream",
     "text": [
      "usage: ipykernel_launcher.py [-h] [--use_efficient]\n",
      "ipykernel_launcher.py: error: unrecognized arguments: --ip=127.0.0.1 --stdin=9014 --control=9012 --hb=9011 --Session.signature_scheme=\"hmac-sha256\" --Session.key=b\"b4510aa4-824d-46e6-8f8b-9750b40b706c\" --shell=9013 --transport=\"tcp\" --iopub=9015 --f=C:\\Users\\ADMINI~1\\AppData\\Local\\Temp\\tmp-10208yW1nphfqZGOb.json\n"
     ]
    },
    {
     "ename": "SystemExit",
     "evalue": "2",
     "output_type": "error",
     "traceback": [
      "An exception has occurred, use %tb to see the full traceback.\n",
      "\u001b[1;31mSystemExit\u001b[0m\u001b[1;31m:\u001b[0m 2\n"
     ]
    }
   ],
   "source": [
    "import argparse\n",
    "parse = argparse.ArgumentParser()\n",
    "parse.add_argument(\"--use_efficient\", action=\"store_true\", help=\"use EfficientGlobalPointer\")\n",
    "args = parse.parse_args()\n",
    "args"
   ]
  },
  {
   "cell_type": "code",
   "execution_count": 5,
   "metadata": {},
   "outputs": [],
   "source": [
    "class Solution:\n",
    "    def reachingPoints(self, sx: int, sy: int, tx: int, ty: int) -> bool:\n",
    "        while sx < tx != ty > sy:\n",
    "            if tx > ty:\n",
    "                tx %= ty\n",
    "            else:\n",
    "                ty %= tx\n",
    "            \n",
    "        if tx == sx and ty == sy:\n",
    "            return True\n",
    "        elif tx == sx:\n",
    "            return ty > sy and (ty - sy) % tx == 0\n",
    "        elif ty == sy:\n",
    "            return tx > sx and (tx - sx) % ty == 0\n",
    "        else:\n",
    "            return False\n"
   ]
  },
  {
   "cell_type": "code",
   "execution_count": 6,
   "metadata": {},
   "outputs": [
    {
     "data": {
      "text/plain": [
       "True"
      ]
     },
     "execution_count": 6,
     "metadata": {},
     "output_type": "execute_result"
    }
   ],
   "source": [
    "s = Solution()\n",
    "s.reachingPoints(9, 10, 9, 19)"
   ]
  },
  {
   "cell_type": "code",
   "execution_count": 9,
   "metadata": {},
   "outputs": [
    {
     "data": {
      "text/plain": [
       "'1.24'"
      ]
     },
     "execution_count": 9,
     "metadata": {},
     "output_type": "execute_result"
    }
   ],
   "source": [
    "a = 1.235436\n",
    "f'{a:.2f}'"
   ]
  },
  {
   "cell_type": "code",
   "execution_count": null,
   "metadata": {},
   "outputs": [],
   "source": [
    "with open('./test', 'a') as f:\n",
    "    for i in range(10):\n",
    "        f.write(f'{i}\\n')"
   ]
  },
  {
   "cell_type": "code",
   "execution_count": 27,
   "metadata": {},
   "outputs": [],
   "source": [
    "cache = '../log/test'\n",
    "writer = SummaryWriter(cache, 'test')\n",
    "# for i in range(10000):\n",
    "#     writer.add_scalar('loss', i, i)"
   ]
  },
  {
   "cell_type": "code",
   "execution_count": 28,
   "metadata": {},
   "outputs": [],
   "source": [
    "for i in range(3):\n",
    "   writer \n",
    "    # vertices_tensor = torch.as_tensor([\n",
    "    #     [1, 1, 1],\n",
    "    #     [-1, -1, 1],\n",
    "    #     [1, -1, -1],\n",
    "    #     [-1, 1, -1],\n",
    "    # ], dtype=torch.float).unsqueeze(0)\n",
    "    # colors_tensor = torch.as_tensor([\n",
    "    #     [255, 0, 0],\n",
    "    #     [0, 255, 0],\n",
    "    #     [0, 0, 255],\n",
    "    #     [255, 0, 255],\n",
    "    # ], dtype=torch.int).unsqueeze(0)\n",
    "    # faces_tensor = torch.as_tensor([\n",
    "    #     [0, 2, 3],\n",
    "    #     [0, 3, 1],\n",
    "    #     [0, 1, 2],\n",
    "    #     [1, 3, 2],\n",
    "    # ], dtype=torch.int).unsqueeze(0)\n",
    "\n",
    "    # writer.add_mesh('my_mesh', vertices=vertices_tensor, colors=colors_tensor, faces=faces_tensor)\n",
    "    "
   ]
  },
  {
   "cell_type": "code",
   "execution_count": 18,
   "metadata": {},
   "outputs": [
    {
     "name": "stdout",
     "output_type": "stream",
     "text": [
      "warning: Embedding dir exists, did you set global_step for add_embedding()?\n",
      "warning: Embedding dir exists, did you set global_step for add_embedding()?\n",
      "warning: Embedding dir exists, did you set global_step for add_embedding()?\n",
      "warning: Embedding dir exists, did you set global_step for add_embedding()?\n",
      "warning: Embedding dir exists, did you set global_step for add_embedding()?\n",
      "warning: Embedding dir exists, did you set global_step for add_embedding()?\n",
      "warning: Embedding dir exists, did you set global_step for add_embedding()?\n",
      "warning: Embedding dir exists, did you set global_step for add_embedding()?\n",
      "warning: Embedding dir exists, did you set global_step for add_embedding()?\n",
      "warning: Embedding dir exists, did you set global_step for add_embedding()?\n",
      "warning: Embedding dir exists, did you set global_step for add_embedding()?\n",
      "warning: Embedding dir exists, did you set global_step for add_embedding()?\n",
      "warning: Embedding dir exists, did you set global_step for add_embedding()?\n",
      "warning: Embedding dir exists, did you set global_step for add_embedding()?\n",
      "warning: Embedding dir exists, did you set global_step for add_embedding()?\n",
      "warning: Embedding dir exists, did you set global_step for add_embedding()?\n",
      "warning: Embedding dir exists, did you set global_step for add_embedding()?\n",
      "warning: Embedding dir exists, did you set global_step for add_embedding()?\n",
      "warning: Embedding dir exists, did you set global_step for add_embedding()?\n",
      "warning: Embedding dir exists, did you set global_step for add_embedding()?\n",
      "warning: Embedding dir exists, did you set global_step for add_embedding()?\n",
      "warning: Embedding dir exists, did you set global_step for add_embedding()?\n",
      "warning: Embedding dir exists, did you set global_step for add_embedding()?\n",
      "warning: Embedding dir exists, did you set global_step for add_embedding()?\n",
      "warning: Embedding dir exists, did you set global_step for add_embedding()?\n",
      "warning: Embedding dir exists, did you set global_step for add_embedding()?\n",
      "warning: Embedding dir exists, did you set global_step for add_embedding()?\n",
      "warning: Embedding dir exists, did you set global_step for add_embedding()?\n",
      "warning: Embedding dir exists, did you set global_step for add_embedding()?\n",
      "warning: Embedding dir exists, did you set global_step for add_embedding()?\n"
     ]
    }
   ],
   "source": [
    "for step in range(10):\n",
    "    import tensorflow as tf\n",
    "    import tensorboard as tb\n",
    "    tf.io.gfile = tb.compat.tensorflow_stub.io.gfile\n",
    "    import keyword\n",
    "    import torch\n",
    "    meta = []\n",
    "    while len(meta)<100:\n",
    "        meta = meta+keyword.kwlist # get some strings\n",
    "    meta = meta[:100]\n",
    "\n",
    "    for i, v in enumerate(meta):\n",
    "        meta[i] = v+str(i)\n",
    "\n",
    "    label_img = torch.rand(100, 3, 10, 32)\n",
    "    for i in range(100):\n",
    "        label_img[i]*=i/100.0\n",
    "\n",
    "    writer.add_embedding(torch.randn(100, 100), metadata=meta, label_img=label_img, global_step=step)\n",
    "    writer.add_embedding(torch.randn(100, 100), label_img=label_img)\n",
    "    writer.add_embedding(torch.randn(100, 100), metadata=meta)"
   ]
  },
  {
   "cell_type": "code",
   "execution_count": null,
   "metadata": {},
   "outputs": [],
   "source": []
  }
 ],
 "metadata": {
  "interpreter": {
   "hash": "60f1a0e5806fbf24163cbd226ff9c6bd3e2c859ea98df4476897d063a6636f01"
  },
  "kernelspec": {
   "display_name": "Python 3.9.7 ('nlp2')",
   "language": "python",
   "name": "python3"
  },
  "language_info": {
   "codemirror_mode": {
    "name": "ipython",
    "version": 3
   },
   "file_extension": ".py",
   "mimetype": "text/x-python",
   "name": "python",
   "nbconvert_exporter": "python",
   "pygments_lexer": "ipython3",
   "version": "3.9.7"
  },
  "orig_nbformat": 4
 },
 "nbformat": 4,
 "nbformat_minor": 2
}
